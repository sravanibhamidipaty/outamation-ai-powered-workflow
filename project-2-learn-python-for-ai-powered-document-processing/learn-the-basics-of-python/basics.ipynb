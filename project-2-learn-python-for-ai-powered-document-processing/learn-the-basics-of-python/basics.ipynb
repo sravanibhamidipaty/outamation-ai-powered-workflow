{
  "cells": [
    {
      "cell_type": "markdown",
      "id": "363e1e48",
      "metadata": {
        "id": "363e1e48"
      },
      "source": [
        "# Python - A Quick Intro\n",
        "\n",
        "Hey there! Before we dive into the deep end with libraries like Pandas and NumPy, let's start at the beginning with a quick intro to Python. It’s been around since 1991, but really started turning heads in 2005 with Django, its web framework. Over the last two decades, Python has become indispensable in fields like scientific computing, data analysis, machine learning, and general software development in both academia and industry."
      ]
    },
    {
      "cell_type": "markdown",
      "id": "e8facf93",
      "metadata": {
        "id": "e8facf93"
      },
      "source": [
        "## Why Python?\n",
        "\n",
        "While there are other languages out there for data analysis and data science, Python stands out because:"
      ]
    },
    {
      "cell_type": "markdown",
      "id": "c0f064cc",
      "metadata": {
        "id": "c0f064cc"
      },
      "source": [
        "1. It offers a vast range of open-source libraries like Pandas and Scikit-learn.\n",
        "2. It integrates seamlessly with legacy software in C, C++, and FORTRAN, acting as a powerful glue in multi-decade systems.\n",
        "3. It provides a unified environment for all programming needs—whether you're prototyping, building complex systems, or crafting analytical applications."
      ]
    },
    {
      "cell_type": "markdown",
      "source": [
        "![Python Reasons](https://drive.google.com/uc?id=1Sr_YTWJUqYPLPCD3VLjRnemODonbVu7S)\n"
      ],
      "metadata": {
        "id": "ErFOsbBMmXRb"
      },
      "id": "ErFOsbBMmXRb"
    },
    {
      "cell_type": "markdown",
      "id": "8256dde6",
      "metadata": {
        "id": "8256dde6"
      },
      "source": [
        "## What will we learn here?"
      ]
    },
    {
      "cell_type": "markdown",
      "id": "ebf6eaf0",
      "metadata": {
        "id": "ebf6eaf0"
      },
      "source": [
        "\n",
        "* Variables and Datatypes\n",
        "* Operators\n",
        "* Basic Python Syntax\n",
        "\n",
        "  \n",
        "> Note: For learning basics, very few libraries needs to be imported.Further while learning pandas, scikit-learn and matplotlib, we would need to install those packages separtely and import the same before starting to write the program."
      ]
    },
    {
      "cell_type": "markdown",
      "id": "a841011a",
      "metadata": {
        "id": "a841011a"
      },
      "source": [
        "## Dive into Data Types and Variables\n",
        "\n",
        "The base for any language is the datatype. Here is the list of all frequently used datatypes in Python:\n",
        "\n",
        "![Data Types in Python](https://drive.google.com/uc?id=1i8sZDP5A3AEPtxvuvq37Y_WSqBadOJ5-)\n",
        "\n",
        "\n",
        "There are other more complex types as well in Python. Each serving it's own Purpose. These can be classifies as follows:\n",
        "\n",
        "![Data Types Hierarchy in Python](https://drive.google.com/uc?id=11VouzYMY4gDUapwPw0zPDSZC29f8HJwG)\n",
        "\n",
        "\n",
        "In addition to this, we can also have our own custom types as well (This can be achieved by creating a class and creating an instance to it).\n",
        "\n",
        "\n",
        "These data types are set dynamically based on the value assigned to a variable. Here’s how simple it is:"
      ]
    },
    {
      "cell_type": "code",
      "execution_count": null,
      "id": "78fda59b",
      "metadata": {
        "id": "78fda59b",
        "outputId": "30536312-071a-4067-fe41-7cf53daa12b9",
        "colab": {
          "base_uri": "https://localhost:8080/"
        }
      },
      "outputs": [
        {
          "output_type": "stream",
          "name": "stdout",
          "text": [
            "value:  50 , type:  <class 'int'>\n",
            "value:  45.5 , type:  <class 'float'>\n",
            "value:  Hello World!! , type:  <class 'str'>\n",
            "value:  (3+5j) , type:  <class 'complex'>\n"
          ]
        }
      ],
      "source": [
        "var = 50\n",
        "print('value: ', var, ', type: ', type(var))\n",
        "\n",
        "var = 45.5\n",
        "print('value: ', var, ', type: ', type(var))\n",
        "\n",
        "var = \"Hello World!!\"\n",
        "print('value: ', var, ', type: ', type(var))\n",
        "\n",
        "var = 3+5j\n",
        "print('value: ', var, ', type: ', type(var))"
      ]
    },
    {
      "cell_type": "markdown",
      "id": "255e2483",
      "metadata": {
        "id": "255e2483"
      },
      "source": [
        "Likewise for string and all other datatypes."
      ]
    },
    {
      "cell_type": "markdown",
      "id": "8f50878a-7557-4224-a7a6-3af7a8d3c477",
      "metadata": {
        "id": "8f50878a-7557-4224-a7a6-3af7a8d3c477"
      },
      "source": [
        "### Typecasting: Changing Data Types\n",
        "\n",
        "Sometimes, you need to convert data from one type to another—a process called typecasting. Here's how you do it in Python:"
      ]
    },
    {
      "cell_type": "code",
      "execution_count": null,
      "id": "a87ac159-a41e-4bca-8495-39535c337bee",
      "metadata": {
        "id": "a87ac159-a41e-4bca-8495-39535c337bee",
        "outputId": "df00428c-e279-4882-e94d-c467735a609a",
        "colab": {
          "base_uri": "https://localhost:8080/"
        }
      },
      "outputs": [
        {
          "output_type": "stream",
          "name": "stdout",
          "text": [
            "value:  50 type:  <class 'int'>\n",
            "value:  50 type:  <class 'str'>\n",
            "value:  50.0 type:  <class 'str'>\n"
          ]
        }
      ],
      "source": [
        "# Defining an int variable with value 50\n",
        "var = 50\n",
        "print('value: ',var,'type: ',type(var))\n",
        "\n",
        "# Typecast the variable to str\n",
        "var1 = str(var)\n",
        "print('value: ',var1,'type: ',type(var1))\n",
        "\n",
        "# Defining a float variable with value 50.0\n",
        "var = 50.0\n",
        "var2 = str(var)\n",
        "print('value: ',var2,'type: ',type(var2))"
      ]
    },
    {
      "cell_type": "markdown",
      "id": "f0c6632d",
      "metadata": {
        "id": "f0c6632d"
      },
      "source": [
        "## Operators: Doing Math and More\n",
        "In Python, operators allow you to perform various types of operations on variables and values. They are essentially the building blocks of all computations in your code. Let's break them down into their categories and see them in action:\n",
        "\n",
        "* **Arithmetic Operations**: Add, subtract, multiply, and more.\n",
        "* **Comparison Operators**: Compare values and get boolean results.\n",
        "* **Logical Operations**: Combine conditions with and, or, not.\n",
        "* **Bitwise Operations**: Work directly on the binary representations of integers."
      ]
    },
    {
      "cell_type": "markdown",
      "id": "74bad099",
      "metadata": {
        "id": "74bad099"
      },
      "source": [
        "### Arithmetic Operations\n",
        "\n",
        "These are used for basic math operations and more, helping you manipulate numerical data effectively."
      ]
    },
    {
      "cell_type": "code",
      "execution_count": null,
      "id": "a9bb76d9",
      "metadata": {
        "id": "a9bb76d9",
        "outputId": "f1150e82-52ef-4a2b-d2af-7684d77142a9",
        "colab": {
          "base_uri": "https://localhost:8080/"
        }
      },
      "outputs": [
        {
          "output_type": "stream",
          "name": "stdout",
          "text": [
            "16\n",
            "4\n",
            "60\n",
            "1.6666666666666667\n",
            "4\n",
            "1000000\n",
            "1\n"
          ]
        }
      ],
      "source": [
        "a = 10\n",
        "b = 6\n",
        "print(a + b)  # Add: Output will be 16\n",
        "print(a - b)  # Subtract: Output will be 4\n",
        "print(a * b)  # Multiply: Output will be 60\n",
        "print(a / b)  # Division: Output will be approximately 1.67\n",
        "\n",
        "# Modulus operation returns the remainder of a division\n",
        "print(a % b)  # Output will be 4\n",
        "\n",
        "# Exponentiation returns the power of one number raised to another\n",
        "print(a ** b)  # Output will be 1,000,000\n",
        "\n",
        "# Floor division returns the largest integer less than or equal to the division\n",
        "print(a // b)  # Output will be 1\n"
      ]
    },
    {
      "cell_type": "markdown",
      "source": [
        "> Tip: Use arithmetic operators to quickly calculate anything from simple budgets to complex mathematical problems."
      ],
      "metadata": {
        "id": "XpQYHbRTsp9O"
      },
      "id": "XpQYHbRTsp9O"
    },
    {
      "cell_type": "markdown",
      "id": "c62144d8",
      "metadata": {
        "id": "c62144d8"
      },
      "source": [
        "### Comparison Operators\n",
        "\n",
        "These operators compare two values and return a Boolean value (True or False).\n",
        "\n",
        "<img src=\"https://drive.google.com/uc?id=1VP6E68heQKPRrTEg1F76Y2WNNpklfN6b\" alt=\"Python Comparison Operators\" width=\"700\" height=\"300\">\n",
        "\n",
        "Let's try these in Python now:\n",
        "\n"
      ]
    },
    {
      "cell_type": "code",
      "execution_count": null,
      "id": "cbc37e8f",
      "metadata": {
        "id": "cbc37e8f",
        "outputId": "f2172b9c-cc8f-49b9-d6a6-1c22a63eff21",
        "colab": {
          "base_uri": "https://localhost:8080/"
        }
      },
      "outputs": [
        {
          "output_type": "stream",
          "name": "stdout",
          "text": [
            "False\n",
            "True\n",
            "False\n",
            "True\n",
            "False\n",
            "True\n"
          ]
        }
      ],
      "source": [
        "a = 13\n",
        "b = 33\n",
        "print(a > b)  # Is a greater than b? False\n",
        "print(a < b)  # Is a less than b? True\n",
        "print(a == b)  # Is a equal to b? False\n",
        "print(a != b)  # Is a not equal to b? True\n",
        "print(a >= b)  # Is a greater than or equal to b? False\n",
        "print(a <= b)  # Is a less than or equal to b? True\n",
        "\n"
      ]
    },
    {
      "cell_type": "markdown",
      "id": "63124bbb",
      "metadata": {
        "id": "63124bbb"
      },
      "source": [
        "### Logical Operations\n",
        "\n",
        "Logical operators are used to combine conditional statements, enhancing decision-making processes in your programs.\n",
        "\n",
        "![Logical Operators in Python](https://drive.google.com/uc?id=1l2fYg9Oee3iMwPOpBArcB-KJVXXceNOV)\n",
        "\n",
        "Let's try this in Python now:"
      ]
    },
    {
      "cell_type": "code",
      "execution_count": null,
      "id": "f4a13d59",
      "metadata": {
        "id": "f4a13d59",
        "outputId": "c9c1405c-5cbf-452e-e95d-5ce7441cce99",
        "colab": {
          "base_uri": "https://localhost:8080/"
        }
      },
      "outputs": [
        {
          "output_type": "stream",
          "name": "stdout",
          "text": [
            "False\n",
            "True\n",
            "False\n"
          ]
        }
      ],
      "source": [
        "a = True\n",
        "b = False\n",
        "\n",
        "# a and b is false\n",
        "print (a and b) # Logical AND: True if both are true, otherwise False. Output: False\n",
        "\n",
        "# a or b is true\n",
        "print (a or b) # Logical OR: True if at least one is true. Output: True\n",
        "\n",
        "# not a is false\n",
        "print(not a) # Logical NOT: True if false, False if true. Output: False"
      ]
    },
    {
      "cell_type": "markdown",
      "id": "8a4c5ff9",
      "metadata": {
        "id": "8a4c5ff9"
      },
      "source": [
        "### Bitwise Operations\n",
        "\n",
        "Bbitwise operators are used to perform bitwise calculations on integers. The integers are first converted into binary and then operations are performed on each bit or corresponding pair of bits, hence the name bitwise operators. The result is then returned in decimal format.\n",
        "\n",
        "Bitwise operators act on bits and perform bit-by-bit operations. These are useful in lower-level programming tasks like writing algorithms for network protocols."
      ]
    },
    {
      "cell_type": "code",
      "execution_count": null,
      "id": "d3df2b81",
      "metadata": {
        "id": "d3df2b81",
        "outputId": "6249a507-2f70-438e-d014-c4bf419393ac",
        "colab": {
          "base_uri": "https://localhost:8080/"
        }
      },
      "outputs": [
        {
          "output_type": "stream",
          "name": "stdout",
          "text": [
            "0\n",
            "14\n",
            "14\n",
            "-11\n",
            "2\n",
            "40\n"
          ]
        }
      ],
      "source": [
        "# binary: 1010\n",
        "a = 10\n",
        "\n",
        "# binary: 0100\n",
        "b = 4\n",
        "\n",
        "# Bitwise AND: Each bit of the output is 1 if the corresponding bit of x AND y is 1, otherwise it's 0. Output: 0\n",
        "print(a & b)\n",
        "\n",
        "# Bitwise OR: Each bit of the output is 0 if the corresponding bit of x AND y is 0, otherwise it's 1. Output: 14\n",
        "print(a | b)\n",
        "\n",
        "# Bitwise XOR: Each bit of the output is the same as the corresponding bit in x if that bit in y is 0, and it's the complement of the bit in x if that bit in y is 1. Output: 14\n",
        "print(a ^ b)\n",
        "\n",
        "# Bitwise NOT: Flips the bits. Output for ~a is -11 because it's the two's complement of a.\n",
        "print(~a)\n",
        "\n",
        "# Right shift: Shifts the bits of a to the right by 2 places. Output: 2\n",
        "print(a >> 2)\n",
        "\n",
        "# Left shift: Shifts the bits of a to the left by 2 places. Output: 40\n",
        "print(a << 2)"
      ]
    },
    {
      "cell_type": "markdown",
      "source": [
        "**Exercise:**\n",
        "Try changing the values of a and b in the code snippets above to see how the output changes. Experiment with different operators to get a feel for how they work."
      ],
      "metadata": {
        "id": "FykAKEeU7Fq9"
      },
      "id": "FykAKEeU7Fq9"
    },
    {
      "cell_type": "markdown",
      "id": "bc1bae53",
      "metadata": {
        "id": "bc1bae53"
      },
      "source": [
        "## Python Basics"
      ]
    },
    {
      "cell_type": "markdown",
      "source": [
        "First things first, let's get to know your Python environment. It's like knowing the type of car you're driving!\n",
        "\n",
        "### Check Your Python Setup"
      ],
      "metadata": {
        "id": "xjIqGwAn7vps"
      },
      "id": "xjIqGwAn7vps"
    },
    {
      "cell_type": "code",
      "execution_count": null,
      "id": "e9815577",
      "metadata": {
        "id": "e9815577",
        "colab": {
          "base_uri": "https://localhost:8080/"
        },
        "outputId": "906d0486-6bf0-4f08-bf01-65aad883ac5f"
      },
      "outputs": [
        {
          "output_type": "stream",
          "name": "stdout",
          "text": [
            "The python version used in this notebook is 3.11.13 (main, Jun  4 2025, 08:57:29) [GCC 11.4.0]\n",
            "Path to the Python interpreter being used in this notebook is /usr/bin/python3\n"
          ]
        }
      ],
      "source": [
        "#Let us see the version of python being installed and the root path in which the python interpreter is being executed.\n",
        "#Print python version.\n",
        "import sys\n",
        "\n",
        "# This line tells you which version of Python you're using.\n",
        "print(\"The python version used in this notebook is\", sys.version, end='\\n')\n",
        "#end='\\n' will add a newline after printing the version\n",
        "\n",
        "\n",
        "# And this line shows you where Python is installed on your computer.\n",
        "print(\"Path to the Python interpreter being used in this notebook is\", sys.executable)"
      ]
    },
    {
      "cell_type": "markdown",
      "source": [
        "### Mastering the Print Function"
      ],
      "metadata": {
        "id": "h4EIhhlI8CRZ"
      },
      "id": "h4EIhhlI8CRZ"
    },
    {
      "cell_type": "markdown",
      "source": [
        "The `print()` function is more versatile than it seems at first glance. It's your primary tool for displaying output in Python, but it can do a lot more than just spit out text. Let's explore how you can use `print()` to make your output informative and pretty!\n",
        "\n",
        "**Basic Printing**\n",
        "\n",
        "Just saying hello:"
      ],
      "metadata": {
        "id": "PyvAfvA98FSI"
      },
      "id": "PyvAfvA98FSI"
    },
    {
      "cell_type": "code",
      "source": [
        "print(\"Hi all\")"
      ],
      "metadata": {
        "colab": {
          "base_uri": "https://localhost:8080/"
        },
        "id": "Bz8TP44F8J3k",
        "outputId": "dd36cdd0-831a-43ad-c829-1556842209f8"
      },
      "id": "Bz8TP44F8J3k",
      "execution_count": null,
      "outputs": [
        {
          "output_type": "stream",
          "name": "stdout",
          "text": [
            "Hi all\n"
          ]
        }
      ]
    },
    {
      "cell_type": "markdown",
      "source": [
        "**Adding Flair to Your Text**\n",
        "\n",
        "You can manipulate the end of your print statement on the fly. For example, adding an 'e' at the end of a greeting:"
      ],
      "metadata": {
        "id": "pTfj27Ot8O0H"
      },
      "id": "pTfj27Ot8O0H"
    },
    {
      "cell_type": "code",
      "source": [
        "print(\"Hi welcom\", end=\"e\")\n",
        "print('\\n')  # This adds a new line after your text"
      ],
      "metadata": {
        "colab": {
          "base_uri": "https://localhost:8080/"
        },
        "id": "KB_AzzP28MSh",
        "outputId": "311ad717-09a4-42c5-ca4d-40b491db101d"
      },
      "id": "KB_AzzP28MSh",
      "execution_count": null,
      "outputs": [
        {
          "output_type": "stream",
          "name": "stdout",
          "text": [
            "Hi welcome\n",
            "\n"
          ]
        }
      ]
    },
    {
      "cell_type": "markdown",
      "source": [
        "**Getting Fancy with Repetition**\n",
        "\n",
        "What if you want to really emphasize a point?"
      ],
      "metadata": {
        "id": "XeAR_0DV8UZM"
      },
      "id": "XeAR_0DV8UZM"
    },
    {
      "cell_type": "code",
      "source": [
        "print(5 * \"How are you \")  # This will repeat the text five times\n",
        "print('\\n')"
      ],
      "metadata": {
        "colab": {
          "base_uri": "https://localhost:8080/"
        },
        "id": "ZJAcFtNr8TgG",
        "outputId": "2173e289-3daa-43da-89f5-981df6fe8f3f"
      },
      "id": "ZJAcFtNr8TgG",
      "execution_count": null,
      "outputs": [
        {
          "output_type": "stream",
          "name": "stdout",
          "text": [
            "How are you How are you How are you How are you How are you \n",
            "\n",
            "\n"
          ]
        }
      ]
    },
    {
      "cell_type": "markdown",
      "source": [
        "**Playing with Time**\n",
        "\n",
        "Let's mix things up by adding some real-time data:"
      ],
      "metadata": {
        "id": "Wo1w9GKp8Xr0"
      },
      "id": "Wo1w9GKp8Xr0"
    },
    {
      "cell_type": "code",
      "source": [
        "import datetime\n",
        "now = datetime.datetime.now()\n",
        "\n",
        "# Using f-string for seamless integration of text and data:\n",
        "print(f'Current time is {now}')"
      ],
      "metadata": {
        "colab": {
          "base_uri": "https://localhost:8080/"
        },
        "id": "w8Z5DTrw8aUh",
        "outputId": "3b6715f2-14c4-4a18-9547-8998dc7a8f88"
      },
      "id": "w8Z5DTrw8aUh",
      "execution_count": null,
      "outputs": [
        {
          "output_type": "stream",
          "name": "stdout",
          "text": [
            "Current time is 2025-06-16 12:43:04.703402\n"
          ]
        }
      ]
    },
    {
      "cell_type": "markdown",
      "source": [
        "**Simplicity with Positional Arguments**\n",
        "\n",
        "Sometimes, you just need a straightforward way to concatenate different types of data:"
      ],
      "metadata": {
        "id": "NnPJOnAa8e7L"
      },
      "id": "NnPJOnAa8e7L"
    },
    {
      "cell_type": "code",
      "source": [
        "print('Current time is', now)"
      ],
      "metadata": {
        "colab": {
          "base_uri": "https://localhost:8080/"
        },
        "id": "VuXIfUUI8c_b",
        "outputId": "61162faf-b5c8-4b35-c17b-0bf9078b5bc4"
      },
      "id": "VuXIfUUI8c_b",
      "execution_count": null,
      "outputs": [
        {
          "output_type": "stream",
          "name": "stdout",
          "text": [
            "Current time is 2025-06-16 12:43:04.703402\n"
          ]
        }
      ]
    },
    {
      "cell_type": "markdown",
      "source": [
        "**Separators for Clarity**\n",
        "\n",
        "When you need to print multiple items in one line and want to control the formatting, use a separator:"
      ],
      "metadata": {
        "id": "4TY89R7K8ldR"
      },
      "id": "4TY89R7K8ldR"
    },
    {
      "cell_type": "code",
      "source": [
        "print('This is how you can use a separator', 'let us see how', sep=' @ ')"
      ],
      "metadata": {
        "colab": {
          "base_uri": "https://localhost:8080/"
        },
        "id": "NnxDuzeD8iO1",
        "outputId": "f5d2575f-4924-4116-dca7-c4675033617a"
      },
      "id": "NnxDuzeD8iO1",
      "execution_count": null,
      "outputs": [
        {
          "output_type": "stream",
          "name": "stdout",
          "text": [
            "This is how you can use a separator @ let us see how\n"
          ]
        }
      ]
    },
    {
      "cell_type": "markdown",
      "id": "64794390-5cff-4218-9752-df43101abdea",
      "metadata": {
        "id": "64794390-5cff-4218-9752-df43101abdea"
      },
      "source": [
        "## Exercises: Put Your Python Skills to the Test!\n",
        "\n",
        "Now that you've got a handle on Python basics, it's time to practice what you've learned! Below are a set of exercises that will help you reinforce your understanding of variables, typecasting, operators, and the `print()` function. Try to solve them on your own, and remember, experimenting is the key to mastering Python!"
      ]
    },
    {
      "cell_type": "markdown",
      "source": [
        "**Exercise 1. Variable Declaration and Output**\n",
        "\n",
        "Declare a variable named `my_var` and assign it a value of your choice.  \n",
        "Print the value of `my_var`."
      ],
      "metadata": {
        "id": "6BSmRIrV9L0z"
      },
      "id": "6BSmRIrV9L0z"
    },
    {
      "cell_type": "code",
      "source": [
        "my_var = \"Externship\"\n",
        "print(my_var)"
      ],
      "metadata": {
        "id": "STPnfn8a9U60",
        "colab": {
          "base_uri": "https://localhost:8080/"
        },
        "outputId": "bced500b-93b8-45a4-b1ce-b472627a2aeb"
      },
      "id": "STPnfn8a9U60",
      "execution_count": null,
      "outputs": [
        {
          "output_type": "stream",
          "name": "stdout",
          "text": [
            "Externship\n"
          ]
        }
      ]
    },
    {
      "cell_type": "markdown",
      "source": [
        "**Exercise 2. Typecasting an Integer to String**\n",
        "\n",
        "Create an integer variable named `age` and assign it your age.  \n",
        "Convert `age` to a string and print it with the text:\n",
        "\n",
        "```python\n",
        "\"I am age years old.\"\n",
        "```"
      ],
      "metadata": {
        "id": "Ta_JUZ3p9XwX"
      },
      "id": "Ta_JUZ3p9XwX"
    },
    {
      "cell_type": "code",
      "source": [
        "age = 100\n",
        "age = str(age)\n",
        "print(f\"I am {age} years old.\")"
      ],
      "metadata": {
        "id": "MOiE8xCi9_oO",
        "colab": {
          "base_uri": "https://localhost:8080/"
        },
        "outputId": "1cee92fc-e4a4-44d0-f261-c4c5e74d707b"
      },
      "id": "MOiE8xCi9_oO",
      "execution_count": null,
      "outputs": [
        {
          "output_type": "stream",
          "name": "stdout",
          "text": [
            "I am 100 years old.\n"
          ]
        }
      ]
    },
    {
      "cell_type": "markdown",
      "source": [
        "**Exercise 3. Performing Operations**\n",
        "\n",
        "Assign three different integer values to variables `a`, `b`, and `c`.  \n",
        "Perform and print the results of their addition, subtraction, multiplication, and division."
      ],
      "metadata": {
        "id": "t8QkRCgW9_-p"
      },
      "id": "t8QkRCgW9_-p"
    },
    {
      "cell_type": "code",
      "source": [
        "a = 5\n",
        "b = 10\n",
        "c = 15\n",
        "print(\"Addition: \", a+b+c)\n",
        "print(\"Subtraction: \", c-b-a)\n",
        "print(\"Multiplication: \", a*b*c)\n",
        "print(\"Division: \", c/a/b)"
      ],
      "metadata": {
        "id": "p7NN610E-LZw",
        "colab": {
          "base_uri": "https://localhost:8080/"
        },
        "outputId": "4548f299-79cf-45c5-b2a2-738d3a886d78"
      },
      "id": "p7NN610E-LZw",
      "execution_count": null,
      "outputs": [
        {
          "output_type": "stream",
          "name": "stdout",
          "text": [
            "Addition:  30\n",
            "Subtraction:  0\n",
            "Multiplication:  750\n",
            "Division:  0.3\n"
          ]
        }
      ]
    },
    {
      "cell_type": "markdown",
      "source": [
        "**Exercise 4. Comparison for Equality**\n",
        "\n",
        "Create two integer variables, `x` and `y`, assigning them values of your choice.  \n",
        "Check if `x` and `y` are equal and print the result as a Boolean value."
      ],
      "metadata": {
        "id": "esX-oOom-L0l"
      },
      "id": "esX-oOom-L0l"
    },
    {
      "cell_type": "code",
      "source": [
        "x = 5\n",
        "y = 10\n",
        "print(x == y)"
      ],
      "metadata": {
        "id": "En1Gc1U_-ZaF",
        "colab": {
          "base_uri": "https://localhost:8080/"
        },
        "outputId": "41a6f96c-443a-4766-f549-a5fde6d2e1dd"
      },
      "id": "En1Gc1U_-ZaF",
      "execution_count": null,
      "outputs": [
        {
          "output_type": "stream",
          "name": "stdout",
          "text": [
            "False\n"
          ]
        }
      ]
    },
    {
      "cell_type": "markdown",
      "source": [
        "**Exercise 5. Logical AND Operation**\n",
        "\n",
        "Assign integer values to two variables, `num1` and `num2`.  \n",
        "Check if both `num1` and `num2` are greater than 10 using a logical AND operator. Print the result."
      ],
      "metadata": {
        "id": "VQZwLOug-Zyc"
      },
      "id": "VQZwLOug-Zyc"
    },
    {
      "cell_type": "code",
      "source": [
        "num1 = 5\n",
        "num2 = 10\n",
        "print(num1 > 10 & num2 > 10)"
      ],
      "metadata": {
        "id": "dRF9yHeiAWEh",
        "colab": {
          "base_uri": "https://localhost:8080/"
        },
        "outputId": "ee8bde84-d37c-4487-bee9-a84f334fb733"
      },
      "id": "dRF9yHeiAWEh",
      "execution_count": null,
      "outputs": [
        {
          "output_type": "stream",
          "name": "stdout",
          "text": [
            "False\n"
          ]
        }
      ]
    },
    {
      "cell_type": "markdown",
      "source": [
        "**Exercise 6. End Character in Print Statement**\n",
        "\n",
        "Print any statement and add `\"@\"` at the end of the statement using the end parameter in the `print()` function."
      ],
      "metadata": {
        "id": "pZf4b8GVAYM3"
      },
      "id": "pZf4b8GVAYM3"
    },
    {
      "cell_type": "code",
      "source": [
        "statement = \"I love Saturdays\"\n",
        "print(statement+\"@\")"
      ],
      "metadata": {
        "id": "znbS4dioAhhw",
        "colab": {
          "base_uri": "https://localhost:8080/"
        },
        "outputId": "ea98bc92-0ef5-4996-ded8-8fcd59521271"
      },
      "id": "znbS4dioAhhw",
      "execution_count": null,
      "outputs": [
        {
          "output_type": "stream",
          "name": "stdout",
          "text": [
            "I love Saturdays@\n"
          ]
        }
      ]
    },
    {
      "cell_type": "markdown",
      "id": "dc3ddadd-968b-4ff7-b58f-e4fb67fa106f",
      "metadata": {
        "id": "dc3ddadd-968b-4ff7-b58f-e4fb67fa106f"
      },
      "source": [
        "Remember, the more you practice, the better you’ll understand how to manipulate and utilize Python’s capabilities. Have fun with these exercises, and try creating some of your own variations!"
      ]
    }
  ],
  "metadata": {
    "kernelspec": {
      "display_name": "Python 3 (ipykernel)",
      "language": "python",
      "name": "python3"
    },
    "language_info": {
      "codemirror_mode": {
        "name": "ipython",
        "version": 3
      },
      "file_extension": ".py",
      "mimetype": "text/x-python",
      "name": "python",
      "nbconvert_exporter": "python",
      "pygments_lexer": "ipython3",
      "version": "3.10.13"
    },
    "colab": {
      "provenance": []
    }
  },
  "nbformat": 4,
  "nbformat_minor": 5
}