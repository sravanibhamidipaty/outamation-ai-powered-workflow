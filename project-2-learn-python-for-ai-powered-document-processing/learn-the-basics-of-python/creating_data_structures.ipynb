{
  "cells": [
    {
      "cell_type": "markdown",
      "source": [
        "### Data Structures in Python - Colab Notebook"
      ],
      "metadata": {
        "id": "Nv9XilQK3JOQ"
      },
      "id": "Nv9XilQK3JOQ"
    },
    {
      "cell_type": "markdown",
      "source": [
        "### Introduction to Data Structures\n",
        "\n",
        "Python provides a variety of built-in data structures that make it easy to store, organize, and manipulate data. In this notebook, we will explore the most commonly used data structures: lists, tuples, sets, and dictionaries. We will also dive into slicing and indexing, which are essential for accessing and modifying elements within these data structures.\n"
      ],
      "metadata": {
        "id": "928Wwkjf3SkA"
      },
      "id": "928Wwkjf3SkA"
    },
    {
      "cell_type": "markdown",
      "source": [
        "## Table of Contents\n",
        "\n",
        "1. Lists\n",
        "    - Creating Lists\n",
        "    - Accessing Elements\n",
        "    - Modifying Elements\n",
        "    - List Methods\n",
        "2. Tuples\n",
        "    - Creating Tuples\n",
        "    - Accessing Elements\n",
        "    - Immutability\n",
        "    - Tuple Methods\n",
        "3. Sets\n",
        "    - Creating Sets\n",
        "    - Adding and Removing Elements\n",
        "    - Set Operations\n",
        "4. Dictionaries\n",
        "    - Creating Dictionaries\n",
        "    - Accessing Elements\n",
        "    - Modifying Elements\n",
        "    - Dictionary Methods\n",
        "5. Slicing and Indexing\n",
        "    - Slicing Lists and Strings\n",
        "    - Indexing with Tuples\n",
        "    - Advanced Slicing Techniques"
      ],
      "metadata": {
        "id": "p3B6HGk_3TFH"
      },
      "id": "p3B6HGk_3TFH"
    },
    {
      "cell_type": "markdown",
      "source": [
        "## Lists\n",
        "\n",
        "A list is an ordered collection of items that can be of any type. Lists are mutable, which means you can change their content.\n",
        "\n",
        "#### Creating Lists"
      ],
      "metadata": {
        "id": "V0yw0Ift3X3L"
      },
      "id": "V0yw0Ift3X3L"
    },
    {
      "cell_type": "code",
      "source": [
        "# Creating a list of integers\n",
        "numbers = [1, 2, 3, 4, 5]\n",
        "print(numbers)\n",
        "\n",
        "# Creating a list of mixed types\n",
        "mixed = [1, \"hello\", 3.14, True]\n",
        "print(mixed)"
      ],
      "metadata": {
        "id": "tMxfgGiq3dEc",
        "colab": {
          "base_uri": "https://localhost:8080/"
        },
        "outputId": "7ad8b67b-6c95-4f05-b534-b2b6f2bb35c3"
      },
      "id": "tMxfgGiq3dEc",
      "execution_count": null,
      "outputs": [
        {
          "output_type": "stream",
          "name": "stdout",
          "text": [
            "[1, 2, 3, 4, 5]\n",
            "[1, 'hello', 3.14, True]\n"
          ]
        }
      ]
    },
    {
      "cell_type": "markdown",
      "source": [
        "Now try defining a list of your own and play with it. See what happens when you add two lists, subtract two lists, multiply lists with a number."
      ],
      "metadata": {
        "id": "g4OPEJ2-3fjj"
      },
      "id": "g4OPEJ2-3fjj"
    },
    {
      "cell_type": "code",
      "source": [
        "# Experiment with lists\n",
        "\n",
        "numbers1 = [1,2,3]\n",
        "numbers2 = [4,5,6]\n",
        "print(f\"Addition: {numbers2+numbers1}\")\n",
        "#print(f\"Subtraction: {numbers2-numbers1}\")\n",
        "print(f\"Multiplication: {numbers2*8}\")"
      ],
      "metadata": {
        "id": "JiokHVs63p8C",
        "colab": {
          "base_uri": "https://localhost:8080/"
        },
        "outputId": "d583a137-2546-46e6-ec4a-40c200e75d6a"
      },
      "id": "JiokHVs63p8C",
      "execution_count": null,
      "outputs": [
        {
          "output_type": "stream",
          "name": "stdout",
          "text": [
            "Addition: [4, 5, 6, 1, 2, 3]\n",
            "Multiplication: [4, 5, 6, 4, 5, 6, 4, 5, 6, 4, 5, 6, 4, 5, 6, 4, 5, 6, 4, 5, 6, 4, 5, 6]\n"
          ]
        }
      ]
    },
    {
      "cell_type": "markdown",
      "source": [
        "### Accessing Elements\n",
        "\n",
        "Always remember that in programming languages first element is at position 0 not at 1. So if you call `numbers[0]`, this will return the first item in the list."
      ],
      "metadata": {
        "id": "zT7iWVHe3sP6"
      },
      "id": "zT7iWVHe3sP6"
    },
    {
      "cell_type": "code",
      "source": [
        "# Accessing elements by index\n",
        "print(numbers[0])  # First element\n",
        "print(numbers[1])  # Second element"
      ],
      "metadata": {
        "id": "vL9U95w43_Rq",
        "colab": {
          "base_uri": "https://localhost:8080/"
        },
        "outputId": "0d159b90-5fa1-494c-d344-3052a1d1a380"
      },
      "id": "vL9U95w43_Rq",
      "execution_count": null,
      "outputs": [
        {
          "output_type": "stream",
          "name": "stdout",
          "text": [
            "1\n",
            "2\n"
          ]
        }
      ]
    },
    {
      "cell_type": "markdown",
      "source": [
        "Interestingly python also provides something called [negative indexing](https://www.w3schools.com/python/gloss_python_string_negative_indexing.asp). Here we start with -1 for the last element and then move our way from left to right. For your reference:\n",
        "\n",
        "\n",
        "\n"
      ],
      "metadata": {
        "id": "y1IgIwMC4Esy"
      },
      "id": "y1IgIwMC4Esy"
    },
    {
      "cell_type": "markdown",
      "source": [
        "![Python List Indexing - Positive and Negative](https://drive.google.com/uc?id=1bO4tUSChRh12AQ5aGyeLUNbioEdOHwz2)"
      ],
      "metadata": {
        "id": "Mhcvr06H4t8O"
      },
      "id": "Mhcvr06H4t8O"
    },
    {
      "cell_type": "code",
      "source": [
        "print(numbers[-1])  # Last element\n",
        "\n",
        "# Accessing a range of elements (slicing)\n",
        "print(numbers[1:4])  # Elements from index 1 to 3"
      ],
      "metadata": {
        "id": "YGd-RejL5RMf",
        "colab": {
          "base_uri": "https://localhost:8080/"
        },
        "outputId": "e066ec0b-5f28-44bd-e982-f6f62950a01a"
      },
      "id": "YGd-RejL5RMf",
      "execution_count": null,
      "outputs": [
        {
          "output_type": "stream",
          "name": "stdout",
          "text": [
            "5\n",
            "[2, 3, 4]\n"
          ]
        }
      ]
    },
    {
      "cell_type": "markdown",
      "source": [
        "Try experimenting with indexing and slicing and get a good feel for it."
      ],
      "metadata": {
        "id": "OonuCz4-5T3K"
      },
      "id": "OonuCz4-5T3K"
    },
    {
      "cell_type": "markdown",
      "source": [
        "### Modifying Elements - CHenaging, adding and removing elements in a list"
      ],
      "metadata": {
        "id": "WvoJ2S6t5eZy"
      },
      "id": "WvoJ2S6t5eZy"
    },
    {
      "cell_type": "code",
      "source": [
        "# Changing an element\n",
        "numbers[2] = 10\n",
        "print(numbers)\n",
        "\n",
        "# Adding elements\n",
        "numbers.append(6)\n",
        "print(numbers)\n",
        "\n",
        "# Removing elements\n",
        "numbers.remove(10)\n",
        "print(numbers)"
      ],
      "metadata": {
        "id": "97WcYVHU5i2u",
        "colab": {
          "base_uri": "https://localhost:8080/"
        },
        "outputId": "dfedc281-0327-42c9-fac6-61a2938db040"
      },
      "id": "97WcYVHU5i2u",
      "execution_count": null,
      "outputs": [
        {
          "output_type": "stream",
          "name": "stdout",
          "text": [
            "[1, 2, 10, 4, 5]\n",
            "[1, 2, 10, 4, 5, 6]\n",
            "[1, 2, 4, 5, 6]\n"
          ]
        }
      ]
    },
    {
      "cell_type": "markdown",
      "source": [
        "### List Methods"
      ],
      "metadata": {
        "id": "FDFFjuVs5n5t"
      },
      "id": "FDFFjuVs5n5t"
    },
    {
      "cell_type": "code",
      "source": [
        "# List of available methods\n",
        "print(dir(numbers))\n",
        "\n",
        "# Using some common list methods\n",
        "numbers = [3, 1, 4, 1, 5, 9]\n",
        "numbers.sort()\n",
        "print(\"Sorted list:\", numbers)\n",
        "\n",
        "numbers.reverse()\n",
        "print(\"Reversed list:\", numbers)\n",
        "\n",
        "index = numbers.index(5)\n",
        "print(\"Index of 5:\", index)"
      ],
      "metadata": {
        "id": "MLxg2wYf5qh2",
        "colab": {
          "base_uri": "https://localhost:8080/"
        },
        "outputId": "20c69f28-1bf5-4200-99f2-a045c54e0486"
      },
      "id": "MLxg2wYf5qh2",
      "execution_count": null,
      "outputs": [
        {
          "output_type": "stream",
          "name": "stdout",
          "text": [
            "['__add__', '__class__', '__class_getitem__', '__contains__', '__delattr__', '__delitem__', '__dir__', '__doc__', '__eq__', '__format__', '__ge__', '__getattribute__', '__getitem__', '__getstate__', '__gt__', '__hash__', '__iadd__', '__imul__', '__init__', '__init_subclass__', '__iter__', '__le__', '__len__', '__lt__', '__mul__', '__ne__', '__new__', '__reduce__', '__reduce_ex__', '__repr__', '__reversed__', '__rmul__', '__setattr__', '__setitem__', '__sizeof__', '__str__', '__subclasshook__', 'append', 'clear', 'copy', 'count', 'extend', 'index', 'insert', 'pop', 'remove', 'reverse', 'sort']\n",
            "Sorted list: [1, 1, 3, 4, 5, 9]\n",
            "Reversed list: [9, 5, 4, 3, 1, 1]\n",
            "Index of 5: 1\n"
          ]
        }
      ]
    },
    {
      "cell_type": "markdown",
      "source": [
        "## Tuples\n",
        "\n",
        "A tuple is an ordered collection of items that can be of any type. Tuples are immutable, which means their content cannot be changed.\n",
        "\n",
        "### Creating Tuples\n"
      ],
      "metadata": {
        "id": "FY6dueG55uWm"
      },
      "id": "FY6dueG55uWm"
    },
    {
      "cell_type": "code",
      "source": [
        "# Creating a tuple\n",
        "my_tuple = (1, 2, 3, \"hello\")\n",
        "print(my_tuple)\n",
        "\n",
        "# Creating a tuple without parentheses (not recommended)\n",
        "my_tuple = 1, 2, 3, \"hello\"\n",
        "print(my_tuple)"
      ],
      "metadata": {
        "id": "lxDzzUQ75wcy",
        "colab": {
          "base_uri": "https://localhost:8080/"
        },
        "outputId": "276b9b87-983d-4f5b-faaf-15729f9b0553"
      },
      "id": "lxDzzUQ75wcy",
      "execution_count": null,
      "outputs": [
        {
          "output_type": "stream",
          "name": "stdout",
          "text": [
            "(1, 2, 3, 'hello')\n",
            "(1, 2, 3, 'hello')\n"
          ]
        }
      ]
    },
    {
      "cell_type": "markdown",
      "source": [
        "### Accessing Elements"
      ],
      "metadata": {
        "id": "jxDaP0Ks5z1l"
      },
      "id": "jxDaP0Ks5z1l"
    },
    {
      "cell_type": "code",
      "source": [
        "# Accessing elements by index\n",
        "print(my_tuple[0])  # First element\n",
        "print(my_tuple[-1])  # Last element"
      ],
      "metadata": {
        "id": "3zHy62sl52Qt",
        "colab": {
          "base_uri": "https://localhost:8080/"
        },
        "outputId": "074d849f-07dd-4cde-fc83-6281bdb675ac"
      },
      "id": "3zHy62sl52Qt",
      "execution_count": null,
      "outputs": [
        {
          "output_type": "stream",
          "name": "stdout",
          "text": [
            "1\n",
            "hello\n"
          ]
        }
      ]
    },
    {
      "cell_type": "markdown",
      "source": [
        "### Immutability"
      ],
      "metadata": {
        "id": "uNPeewQL6AjW"
      },
      "id": "uNPeewQL6AjW"
    },
    {
      "cell_type": "code",
      "source": [
        "# Trying to change an element (will raise an error)\n",
        "# my_tuple[1] = 4  # Uncommenting this line will cause an error\n",
        "\n",
        "# Creating a new tuple with changed content\n",
        "new_tuple = my_tuple[:1] + (4,) + my_tuple[2:]\n",
        "print(new_tuple)"
      ],
      "metadata": {
        "id": "iJyICZhL6OjP",
        "colab": {
          "base_uri": "https://localhost:8080/"
        },
        "outputId": "acbfe24a-274c-4cdc-fcc9-2fae96ad1f74"
      },
      "id": "iJyICZhL6OjP",
      "execution_count": null,
      "outputs": [
        {
          "output_type": "stream",
          "name": "stdout",
          "text": [
            "(1, 4, 3, 'hello')\n"
          ]
        }
      ]
    },
    {
      "cell_type": "markdown",
      "source": [
        "### Tuple Methods"
      ],
      "metadata": {
        "id": "wEb6PW6u6Vt0"
      },
      "id": "wEb6PW6u6Vt0"
    },
    {
      "cell_type": "code",
      "source": [
        "# Tuple of methods (limited compared to lists)\n",
        "print(dir(my_tuple))\n",
        "\n",
        "# Using some common tuple methods\n",
        "count = my_tuple.count(\"hello\")\n",
        "print(\"Count of 'hello':\", count)\n",
        "\n",
        "index = my_tuple.index(3)\n",
        "print(\"Index of 3:\", index)"
      ],
      "metadata": {
        "id": "5e_qOcqw6Wcb",
        "colab": {
          "base_uri": "https://localhost:8080/"
        },
        "outputId": "73eb04cb-2947-4573-d315-9abdf7459289"
      },
      "id": "5e_qOcqw6Wcb",
      "execution_count": null,
      "outputs": [
        {
          "output_type": "stream",
          "name": "stdout",
          "text": [
            "['__add__', '__class__', '__class_getitem__', '__contains__', '__delattr__', '__dir__', '__doc__', '__eq__', '__format__', '__ge__', '__getattribute__', '__getitem__', '__getnewargs__', '__getstate__', '__gt__', '__hash__', '__init__', '__init_subclass__', '__iter__', '__le__', '__len__', '__lt__', '__mul__', '__ne__', '__new__', '__reduce__', '__reduce_ex__', '__repr__', '__rmul__', '__setattr__', '__sizeof__', '__str__', '__subclasshook__', 'count', 'index']\n",
            "Count of 'hello': 1\n",
            "Index of 3: 2\n"
          ]
        }
      ]
    },
    {
      "cell_type": "markdown",
      "source": [
        "## Sets\n",
        "\n",
        "A set is an unordered collection of unique items. Sets are mutable, but the elements themselves must be immutable.\n",
        "\n",
        "### Creating Sets"
      ],
      "metadata": {
        "id": "QyrrY4Pj6azX"
      },
      "id": "QyrrY4Pj6azX"
    },
    {
      "cell_type": "code",
      "source": [
        "# Creating a set\n",
        "my_set = {1, 2, 3, 3, 4}\n",
        "print(my_set)  # Duplicate elements are removed\n",
        "\n",
        "# Creating an empty set\n",
        "empty_set = set()\n",
        "print(empty_set)"
      ],
      "metadata": {
        "id": "rQW1U5rG6YRe",
        "colab": {
          "base_uri": "https://localhost:8080/"
        },
        "outputId": "08919292-e87c-41c0-a600-681da54f0e76"
      },
      "id": "rQW1U5rG6YRe",
      "execution_count": null,
      "outputs": [
        {
          "output_type": "stream",
          "name": "stdout",
          "text": [
            "{1, 2, 3, 4}\n",
            "set()\n"
          ]
        }
      ]
    },
    {
      "cell_type": "markdown",
      "source": [
        "### Adding and Removing Elements"
      ],
      "metadata": {
        "id": "dAciM-6W6eYF"
      },
      "id": "dAciM-6W6eYF"
    },
    {
      "cell_type": "code",
      "source": [
        "# Adding elements\n",
        "my_set.add(5)\n",
        "print(my_set)\n",
        "\n",
        "# Removing elements\n",
        "my_set.remove(3)\n",
        "print(my_set)"
      ],
      "metadata": {
        "id": "rY8AEUls6gF3",
        "colab": {
          "base_uri": "https://localhost:8080/"
        },
        "outputId": "be87f393-979a-4a91-85d6-1fcf8f809c61"
      },
      "id": "rY8AEUls6gF3",
      "execution_count": null,
      "outputs": [
        {
          "output_type": "stream",
          "name": "stdout",
          "text": [
            "{1, 2, 3, 4, 5}\n",
            "{1, 2, 4, 5}\n"
          ]
        }
      ]
    },
    {
      "cell_type": "markdown",
      "source": [
        "### Set Operations"
      ],
      "metadata": {
        "id": "7sW_Q_JK6ksf"
      },
      "id": "7sW_Q_JK6ksf"
    },
    {
      "cell_type": "code",
      "source": [
        "# Set operations\n",
        "set_a = {1, 2, 3}\n",
        "set_b = {3, 4, 5}\n",
        "\n",
        "union = set_a | set_b\n",
        "print(\"Union:\", union)\n",
        "\n",
        "intersection = set_a & set_b\n",
        "print(\"Intersection:\", intersection)\n",
        "\n",
        "difference = set_a - set_b\n",
        "print(\"Difference:\", difference)\n",
        "\n",
        "symmetric_difference = set_a ^ set_b\n",
        "print(\"Symmetric Difference:\", symmetric_difference)"
      ],
      "metadata": {
        "id": "tMadtopy8hDF",
        "colab": {
          "base_uri": "https://localhost:8080/"
        },
        "outputId": "bc00b600-6519-4b20-e8ae-a4f9ee13c958"
      },
      "id": "tMadtopy8hDF",
      "execution_count": null,
      "outputs": [
        {
          "output_type": "stream",
          "name": "stdout",
          "text": [
            "Union: {1, 2, 3, 4, 5}\n",
            "Intersection: {3}\n",
            "Difference: {1, 2}\n",
            "Symmetric Difference: {1, 2, 4, 5}\n"
          ]
        }
      ]
    },
    {
      "cell_type": "markdown",
      "source": [
        "## Dictionaries\n",
        "\n",
        "A dictionary is an unordered collection of key-value pairs. Keys must be unique and immutable, while values can be of any type.\n",
        "\n",
        "### Creating Dictionaries"
      ],
      "metadata": {
        "id": "R3mV0vnJ8lvZ"
      },
      "id": "R3mV0vnJ8lvZ"
    },
    {
      "cell_type": "code",
      "source": [
        "# Creating a dictionary\n",
        "my_dict = {\"name\": \"Alice\", \"age\": 25, \"city\": \"New York\"}\n",
        "print(my_dict)\n",
        "\n",
        "# Creating an empty dictionary\n",
        "empty_dict = {}\n",
        "print(empty_dict)"
      ],
      "metadata": {
        "id": "KMRJsYr08orT",
        "colab": {
          "base_uri": "https://localhost:8080/"
        },
        "outputId": "d63effde-8f26-4e1d-cfbc-864aa00c3a34"
      },
      "id": "KMRJsYr08orT",
      "execution_count": null,
      "outputs": [
        {
          "output_type": "stream",
          "name": "stdout",
          "text": [
            "{'name': 'Alice', 'age': 25, 'city': 'New York'}\n",
            "{}\n"
          ]
        }
      ]
    },
    {
      "cell_type": "markdown",
      "source": [
        "### Accessing Elements"
      ],
      "metadata": {
        "id": "x_k62dwt8y3k"
      },
      "id": "x_k62dwt8y3k"
    },
    {
      "cell_type": "code",
      "source": [
        "# Accessing elements by key\n",
        "print(my_dict[\"name\"])  # Accessing value by key\n",
        "\n",
        "# Using the get method\n",
        "print(my_dict.get(\"age\"))"
      ],
      "metadata": {
        "id": "odh_8pOM82V5",
        "colab": {
          "base_uri": "https://localhost:8080/"
        },
        "outputId": "46a9ca16-d7b0-4b13-de7e-a0d1a6c11a78"
      },
      "id": "odh_8pOM82V5",
      "execution_count": null,
      "outputs": [
        {
          "output_type": "stream",
          "name": "stdout",
          "text": [
            "Alice\n",
            "25\n"
          ]
        }
      ]
    },
    {
      "cell_type": "markdown",
      "source": [
        "\n",
        "### Modifying Elements"
      ],
      "metadata": {
        "id": "B7xpV-0M8_Up"
      },
      "id": "B7xpV-0M8_Up"
    },
    {
      "cell_type": "code",
      "source": [
        "# Changing a value\n",
        "my_dict[\"age\"] = 26\n",
        "print(my_dict)\n",
        "\n",
        "# Adding a new key-value pair\n",
        "my_dict[\"email\"] = \"alice@example.com\"\n",
        "print(my_dict)\n",
        "\n",
        "# Removing a key-value pair\n",
        "del my_dict[\"city\"]\n",
        "print(my_dict)"
      ],
      "metadata": {
        "id": "EEu7tka48-ku",
        "colab": {
          "base_uri": "https://localhost:8080/"
        },
        "outputId": "fae3eac1-9101-4e75-a685-1f5aef6965d4"
      },
      "id": "EEu7tka48-ku",
      "execution_count": null,
      "outputs": [
        {
          "output_type": "stream",
          "name": "stdout",
          "text": [
            "{'name': 'Alice', 'age': 26, 'city': 'New York'}\n",
            "{'name': 'Alice', 'age': 26, 'city': 'New York', 'email': 'alice@example.com'}\n",
            "{'name': 'Alice', 'age': 26, 'email': 'alice@example.com'}\n"
          ]
        }
      ]
    },
    {
      "cell_type": "markdown",
      "source": [
        "### Dictionary Methods"
      ],
      "metadata": {
        "id": "1NqplCor9En8"
      },
      "id": "1NqplCor9En8"
    },
    {
      "cell_type": "code",
      "source": [
        "# Dictionary methods\n",
        "print(dir(my_dict))\n",
        "\n",
        "# Using some common dictionary methods\n",
        "keys = my_dict.keys()\n",
        "print(\"Keys:\", keys)\n",
        "\n",
        "values = my_dict.values()\n",
        "print(\"Values:\", values)\n",
        "\n",
        "items = my_dict.items()\n",
        "print(\"Items:\", items)"
      ],
      "metadata": {
        "id": "DVHmzD0S9H3I",
        "colab": {
          "base_uri": "https://localhost:8080/"
        },
        "outputId": "45cc5f81-9e56-4d20-9c46-6dc6a592e3aa"
      },
      "id": "DVHmzD0S9H3I",
      "execution_count": null,
      "outputs": [
        {
          "output_type": "stream",
          "name": "stdout",
          "text": [
            "['__class__', '__class_getitem__', '__contains__', '__delattr__', '__delitem__', '__dir__', '__doc__', '__eq__', '__format__', '__ge__', '__getattribute__', '__getitem__', '__getstate__', '__gt__', '__hash__', '__init__', '__init_subclass__', '__ior__', '__iter__', '__le__', '__len__', '__lt__', '__ne__', '__new__', '__or__', '__reduce__', '__reduce_ex__', '__repr__', '__reversed__', '__ror__', '__setattr__', '__setitem__', '__sizeof__', '__str__', '__subclasshook__', 'clear', 'copy', 'fromkeys', 'get', 'items', 'keys', 'pop', 'popitem', 'setdefault', 'update', 'values']\n",
            "Keys: dict_keys(['name', 'age', 'email'])\n",
            "Values: dict_values(['Alice', 26, 'alice@example.com'])\n",
            "Items: dict_items([('name', 'Alice'), ('age', 26), ('email', 'alice@example.com')])\n"
          ]
        }
      ]
    },
    {
      "cell_type": "markdown",
      "source": [
        "## Slicing and Indexing\n",
        "\n",
        "Slicing and indexing are powerful techniques for accessing and modifying elements within lists, tuples, and strings.\n",
        "\n",
        "Slicing and indexing are very useful in python and it is important that you get used to them. Here is a great video tutorial for the same:\n",
        "\n",
        "<br>\n",
        "<center>\n",
        "  <a href=\"https://www.youtube.com/watch?v=ajrtAuDg3yw\" target=\"_blank\">\n",
        "  <img alt='Thumbnail for a video showing 3 cool Google Colab features' src= 'https://drive.google.com/uc?id=1eFhFgyZW4yKi-EPtgLu5Z7aMsbkNX2p0' width=\"700\">\n",
        "\n",
        "  </a>\n",
        "</center>"
      ],
      "metadata": {
        "id": "xIoymez09Nhz"
      },
      "id": "xIoymez09Nhz"
    },
    {
      "cell_type": "markdown",
      "source": [
        "### Slicing Lists and Strings\n"
      ],
      "metadata": {
        "id": "odA7U019__lR"
      },
      "id": "odA7U019__lR"
    },
    {
      "cell_type": "code",
      "source": [
        "# List slicing\n",
        "numbers = [0, 1, 2, 3, 4, 5, 6, 7, 8, 9]\n",
        "print(numbers[2:5])  # Elements from index 2 to 4\n",
        "print(numbers[:4])   # Elements from start to index 3\n",
        "print(numbers[4:])   # Elements from index 4 to end\n",
        "print(numbers[::2])  # Every second element\n",
        "\n",
        "# String slicing\n",
        "my_string = \"Hello, world!\"\n",
        "print(my_string[7:12])  # Substring \"world\"\n",
        "print(my_string[:5])    # Substring \"Hello\"\n",
        "print(my_string[7:])    # Substring \"world!\"\n",
        "print(my_string[::-1])  # Reversed string"
      ],
      "metadata": {
        "id": "uXwY1DsLAAFQ",
        "colab": {
          "base_uri": "https://localhost:8080/"
        },
        "outputId": "34bad1dc-1f0a-48fd-deff-7bdff4c6fb6c"
      },
      "id": "uXwY1DsLAAFQ",
      "execution_count": null,
      "outputs": [
        {
          "output_type": "stream",
          "name": "stdout",
          "text": [
            "[2, 3, 4]\n",
            "[0, 1, 2, 3]\n",
            "[4, 5, 6, 7, 8, 9]\n",
            "[0, 2, 4, 6, 8]\n",
            "world\n",
            "Hello\n",
            "world!\n",
            "!dlrow ,olleH\n"
          ]
        }
      ]
    },
    {
      "cell_type": "code",
      "source": [
        "# Experiment with slicing. Create your own questions and get comfortable with indexing\n",
        "strings = [\"alpha\", \"beta\", \"gamma\"]\n",
        "print(strings[0][0])\n",
        "print(strings[0][3:])"
      ],
      "metadata": {
        "id": "iRFrZIi6AEza",
        "colab": {
          "base_uri": "https://localhost:8080/"
        },
        "outputId": "4f5a7a2b-23e9-4fd0-d1d2-1247e36dd83a"
      },
      "id": "iRFrZIi6AEza",
      "execution_count": null,
      "outputs": [
        {
          "output_type": "stream",
          "name": "stdout",
          "text": [
            "a\n",
            "ha\n"
          ]
        }
      ]
    },
    {
      "cell_type": "markdown",
      "source": [
        "### Indexing with Tuples"
      ],
      "metadata": {
        "id": "nlI_hEjJAPaB"
      },
      "id": "nlI_hEjJAPaB"
    },
    {
      "cell_type": "code",
      "source": [
        "# Tuple indexing\n",
        "my_tuple = (10, 20, 30, 40, 50)\n",
        "print(my_tuple[1])   # Second element\n",
        "print(my_tuple[-1])  # Last element\n",
        "\n",
        "# Tuple slicing\n",
        "print(my_tuple[1:4])  # Elements from index 1 to 3\n",
        "print(my_tuple[:3])   # First three elements\n",
        "print(my_tuple[2:])   # Elements from index 2 to end"
      ],
      "metadata": {
        "id": "eZ7DPjsSATHe",
        "colab": {
          "base_uri": "https://localhost:8080/"
        },
        "outputId": "b31e3ca0-054e-406f-bdba-834a8bdb7770"
      },
      "id": "eZ7DPjsSATHe",
      "execution_count": null,
      "outputs": [
        {
          "output_type": "stream",
          "name": "stdout",
          "text": [
            "20\n",
            "50\n",
            "(20, 30, 40)\n",
            "(10, 20, 30)\n",
            "(30, 40, 50)\n"
          ]
        }
      ]
    },
    {
      "cell_type": "markdown",
      "source": [
        "### Advanced Slicing Techniques"
      ],
      "metadata": {
        "id": "vNiI9VEQAT3T"
      },
      "id": "vNiI9VEQAT3T"
    },
    {
      "cell_type": "code",
      "source": [
        "# Negative indexing\n",
        "print(numbers[-5:])     # Last five elements\n",
        "print(numbers[:-5])     # All but the last five elements\n",
        "\n",
        "# Reversing with slicing\n",
        "print(numbers[::-1])    # Reversed list"
      ],
      "metadata": {
        "id": "aW_e_ML1AXSj",
        "colab": {
          "base_uri": "https://localhost:8080/"
        },
        "outputId": "e327c3ad-d826-41d2-f8ec-db87e65ea45d"
      },
      "id": "aW_e_ML1AXSj",
      "execution_count": null,
      "outputs": [
        {
          "output_type": "stream",
          "name": "stdout",
          "text": [
            "[5, 6, 7, 8, 9]\n",
            "[0, 1, 2, 3, 4]\n",
            "[9, 8, 7, 6, 5, 4, 3, 2, 1, 0]\n"
          ]
        }
      ]
    },
    {
      "cell_type": "markdown",
      "source": [
        "## Exercises\n",
        "\n",
        "**Exercise 1: List Operations**\n",
        "Create a list of your favorite fruits and perform the following operations:\n",
        "- Add a new fruit to the list.\n",
        "- Remove a fruit from the list.\n",
        "- Sort the list alphabetically.\n",
        "- Print the first and last fruit in the list."
      ],
      "metadata": {
        "id": "c__3T_tTAZDP"
      },
      "id": "c__3T_tTAZDP"
    },
    {
      "cell_type": "code",
      "source": [
        "fruits = [\"Mango\", \"Watermelon\", \"Apple\"]\n",
        "fruits.append(\"Strawberry\")\n",
        "print(fruits)\n",
        "fruits.remove(\"Apple\")\n",
        "fruits.sort()\n",
        "print(fruits[0])\n",
        "print(fruits[-1])"
      ],
      "metadata": {
        "id": "RII27bfDAdBH",
        "colab": {
          "base_uri": "https://localhost:8080/"
        },
        "outputId": "81f7b5cc-946e-4124-ee2d-9a52e5ad7974"
      },
      "id": "RII27bfDAdBH",
      "execution_count": null,
      "outputs": [
        {
          "output_type": "stream",
          "name": "stdout",
          "text": [
            "['Mango', 'Watermelon', 'Apple', 'Strawberry']\n",
            "Mango\n",
            "Watermelon\n"
          ]
        }
      ]
    },
    {
      "cell_type": "markdown",
      "source": [
        "**Exercise 2: Tuple Operations**\n",
        "Create a tuple with five different numbers and perform the following operations:\n",
        "- Access the second and fourth elements.\n",
        "- Create a new tuple by adding an element to the original tuple.\n",
        "- Count the occurrences of a specific number in the tuple."
      ],
      "metadata": {
        "id": "VwKQKP7nAdl8"
      },
      "id": "VwKQKP7nAdl8"
    },
    {
      "cell_type": "code",
      "source": [
        "numbers = (10, 20, 30, 40, 50)\n",
        "\n",
        "\n",
        "print(numbers[1])\n",
        "print(numbers[3])\n",
        "new_element = 60\n",
        "new_numbers = numbers + (new_element,)\n",
        "print(\"New tuple:\", new_numbers)\n",
        "\n",
        "specific_number = 30\n",
        "count = numbers.count(specific_number)\n",
        "print(count)"
      ],
      "metadata": {
        "id": "sdlWRQKoAfcv",
        "colab": {
          "base_uri": "https://localhost:8080/"
        },
        "outputId": "ae9d3b04-27c8-4392-f8f0-1bc5d2ff26ff"
      },
      "id": "sdlWRQKoAfcv",
      "execution_count": null,
      "outputs": [
        {
          "output_type": "stream",
          "name": "stdout",
          "text": [
            "20\n",
            "40\n",
            "New tuple: (10, 20, 30, 40, 50, 60)\n",
            "1\n"
          ]
        }
      ]
    },
    {
      "cell_type": "markdown",
      "source": [
        "**Exercise 3: Set Operations**\n",
        "Create two sets with some common and some unique elements. Perform the following operations:\n",
        "- Find the union of the sets.\n",
        "- Find the intersection of the sets.\n",
        "- Find the difference between the sets.\n",
        "- Find the symmetric difference between the sets."
      ],
      "metadata": {
        "id": "ZiFSz4cGAf5p"
      },
      "id": "ZiFSz4cGAf5p"
    },
    {
      "cell_type": "code",
      "source": [
        "set1 = {1,2,3,4,5,6,7,8,9}\n",
        "set2 = {2,4,6,8,10,12,14,16,18}\n",
        "\n",
        "print(set1 | set2)\n",
        "print(set1 & set2)\n",
        "print(set1 - set2)\n",
        "print(set1^set2)"
      ],
      "metadata": {
        "id": "OGp7e8SfAhgr",
        "colab": {
          "base_uri": "https://localhost:8080/"
        },
        "outputId": "8fcdc21d-84e8-46f5-c9e2-e8b4cb2e6375"
      },
      "id": "OGp7e8SfAhgr",
      "execution_count": null,
      "outputs": [
        {
          "output_type": "stream",
          "name": "stdout",
          "text": [
            "{1, 2, 3, 4, 5, 6, 7, 8, 9, 10, 12, 14, 16, 18}\n",
            "{8, 2, 4, 6}\n",
            "{1, 3, 5, 7, 9}\n",
            "{1, 3, 5, 7, 9, 10, 12, 14, 16, 18}\n"
          ]
        }
      ]
    },
    {
      "cell_type": "markdown",
      "source": [
        "**Exercise 4: Dictionary Operations**\n",
        "Create a dictionary with information about a book (title, author, year). Perform the following operations:\n",
        "- Add a new key-value pair for the genre.\n",
        "- Update the year of publication.\n",
        "- Remove the author from the dictionary.\n",
        "- Print all the keys and values in the dictionary."
      ],
      "metadata": {
        "id": "uMLb-AmCAjxR"
      },
      "id": "uMLb-AmCAjxR"
    },
    {
      "cell_type": "code",
      "source": [
        "book = {\n",
        "    \"title\": \"The Let Them Theory\",\n",
        "    \"author\": \"Mel Robbins\",\n",
        "    \"year\": 2025\n",
        "}\n",
        "\n",
        "book[\"genre\"] = \"Nonfiction\"\n",
        "\n",
        "book[\"year\"] = 2024\n",
        "\n",
        "del book[\"author\"]\n",
        "\n",
        "print(\"Keys:\", book.keys())\n",
        "print(\"Values:\", book.values())"
      ],
      "metadata": {
        "id": "vvUine6YAkgw",
        "colab": {
          "base_uri": "https://localhost:8080/"
        },
        "outputId": "783dfa53-ea06-4dc0-a59b-770a17cb44e4"
      },
      "id": "vvUine6YAkgw",
      "execution_count": null,
      "outputs": [
        {
          "output_type": "stream",
          "name": "stdout",
          "text": [
            "Keys: dict_keys(['title', 'year', 'genre'])\n",
            "Values: dict_values(['The Let Them Theory', 2024, 'Nonfiction'])\n"
          ]
        }
      ]
    },
    {
      "cell_type": "markdown",
      "source": [
        "**Exercise 5: Slicing and Indexing**\n",
        "Given a list of numbers from 1 to 20, perform the following operations:\n",
        "- Print the first five elements.\n",
        "- Print the last five elements.\n",
        "- Print every second element.\n",
        "- Print the list in reverse order."
      ],
      "metadata": {
        "id": "xXpIL1jVAl8m"
      },
      "id": "xXpIL1jVAl8m"
    },
    {
      "cell_type": "markdown",
      "source": [
        "\n",
        "## Conclusion\n",
        "\n",
        "Understanding data structures is essential for efficient programming in Python. Lists, tuples, sets, and dictionaries provide powerful ways to store and manipulate data. Mastering slicing and indexing techniques will further enhance your ability to work with these data structures. Practice with the examples and exercises provided to deepen your understanding and improve your programming skills."
      ],
      "metadata": {
        "id": "--j5gKoR3LBQ"
      },
      "id": "--j5gKoR3LBQ"
    },
    {
      "cell_type": "code",
      "execution_count": null,
      "id": "a3afaddd-88c5-447f-82ff-ff06d4f29fc4",
      "metadata": {
        "id": "a3afaddd-88c5-447f-82ff-ff06d4f29fc4",
        "colab": {
          "base_uri": "https://localhost:8080/"
        },
        "outputId": "a2f90030-3d48-49df-fada-ab738233f47b"
      },
      "outputs": [
        {
          "output_type": "stream",
          "name": "stdout",
          "text": [
            "[1, 2, 3, 4, 5]\n",
            "[16, 17, 18, 19, 20]\n",
            "[1, 3, 5, 7, 9, 11, 13, 15, 17, 19]\n",
            "[20, 19, 18, 17, 16, 15, 14, 13, 12, 11, 10, 9, 8, 7, 6, 5, 4, 3, 2, 1]\n"
          ]
        }
      ],
      "source": [
        "list_of_nums = [i for i in range(1,21)]\n",
        "print(list_of_nums[:5])\n",
        "print(list_of_nums[-5:])\n",
        "print(list_of_nums[::2])\n",
        "print(list_of_nums[::-1])"
      ]
    }
  ],
  "metadata": {
    "kernelspec": {
      "display_name": "Python 3 (ipykernel)",
      "language": "python",
      "name": "python3"
    },
    "language_info": {
      "codemirror_mode": {
        "name": "ipython",
        "version": 3
      },
      "file_extension": ".py",
      "mimetype": "text/x-python",
      "name": "python",
      "nbconvert_exporter": "python",
      "pygments_lexer": "ipython3",
      "version": "3.10.13"
    },
    "colab": {
      "provenance": []
    }
  },
  "nbformat": 4,
  "nbformat_minor": 5
}