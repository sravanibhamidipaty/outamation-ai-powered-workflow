{
  "nbformat": 4,
  "nbformat_minor": 0,
  "metadata": {
    "colab": {
      "provenance": []
    },
    "kernelspec": {
      "name": "python3",
      "display_name": "Python 3"
    },
    "language_info": {
      "name": "python"
    }
  },
  "cells": [
    {
      "cell_type": "markdown",
      "source": [
        "# Functions in Python - Colab Notebook"
      ],
      "metadata": {
        "id": "wmRXbPeivc_8"
      }
    },
    {
      "cell_type": "markdown",
      "source": [
        "#### Introduction to Functions\n",
        "\n",
        "A function is a block of code that performs a specified task. Functions help organize your code and make it more readable, maintainable, and reusable.\n"
      ],
      "metadata": {
        "id": "olALzo-Rvkz9"
      }
    },
    {
      "cell_type": "markdown",
      "source": [
        "## Table of Contents\n",
        "\n",
        "1. Why Use Functions?\n",
        "2. Types of Functions\n",
        "    - Nothing goes in, nothing comes out.\n",
        "    - Nothing goes in, something comes out.\n",
        "    - Something goes in, nothing comes out.\n",
        "    - Something goes in, something comes out.\n",
        "3. Interesting Examples and Use Cases\n",
        "4. Try It Yourself\n",
        "5. Exercises"
      ],
      "metadata": {
        "id": "Wx49-tx5vo2M"
      }
    },
    {
      "cell_type": "markdown",
      "source": [
        "## Why Use Functions?\n",
        "\n",
        "- **Readability**: Functions make a program easier to read and understand.\n",
        "- **Reduction in Code Duplication**: Functions reduce code duplication.\n",
        "- **Reusability**: Functions allow the code to be reused.\n",
        "\n",
        "Most of the time, we provide some arguments to a function, and it returns something. However, this may not always be the case. When writing a function, we need to decide if the function needs any arguments or not, and if the function needs to return something or not.\n",
        "\n",
        "\n"
      ],
      "metadata": {
        "id": "BnsvOanvvr74"
      }
    },
    {
      "cell_type": "markdown",
      "source": [
        "## Syntax of Functions\n",
        "\n",
        "The basic syntax for defining a function in Python is as follows:\n",
        "\n"
      ],
      "metadata": {
        "id": "y01qnTnOwm0h"
      }
    },
    {
      "cell_type": "code",
      "source": [
        "def function_name(parameters):\n",
        "    \"\"\"\n",
        "    Optional: Docstring to describe the function.\n",
        "    \"\"\"\n",
        "    # Code block\n",
        "    return result  # Optional: return statement\n"
      ],
      "metadata": {
        "id": "VYpcBUZowjbT"
      },
      "execution_count": null,
      "outputs": []
    },
    {
      "cell_type": "markdown",
      "source": [
        "* `def`: This keyword is used to declare a function.\n",
        "* `function_name`: This is the name of the function. It should be descriptive and follow standard naming conventions.\n",
        "* `parameters`: These are the inputs to the function. They are optional and can be zero or more.\n",
        "* `\"\"\"Docstring\"\"\"`: This is an optional string to describe what the function does.\n",
        "* `return`: This is an optional statement to return a value from the function.\n",
        "\n",
        "### Example: Write a function that echoes the input that it takes."
      ],
      "metadata": {
        "id": "P7cLCXPlwpfQ"
      }
    },
    {
      "cell_type": "code",
      "source": [
        "# we use the def keyword\n",
        "# then write the function name\n",
        "# then define the function inputs\n",
        "def echo(user_input):\n",
        "\n",
        "  # this will print whatever is sent to this function\n",
        "  print(user_input)"
      ],
      "metadata": {
        "id": "JhVskJ7KxQmu"
      },
      "execution_count": null,
      "outputs": []
    },
    {
      "cell_type": "code",
      "source": [
        "echo('Hello World')"
      ],
      "metadata": {
        "colab": {
          "base_uri": "https://localhost:8080/"
        },
        "id": "0jSrKVppxlEX",
        "outputId": "0e7fdc2b-2227-4351-a8ac-d2e838b28920"
      },
      "execution_count": null,
      "outputs": [
        {
          "output_type": "stream",
          "name": "stdout",
          "text": [
            "Hello World\n"
          ]
        }
      ]
    },
    {
      "cell_type": "code",
      "source": [
        "echo('An apple a day keeps anyone away, if you throw it hard enough.')"
      ],
      "metadata": {
        "colab": {
          "base_uri": "https://localhost:8080/"
        },
        "id": "MN7k55CExqCm",
        "outputId": "a74d9c8c-68a5-4e8c-aa0f-cee2afb672bd"
      },
      "execution_count": null,
      "outputs": [
        {
          "output_type": "stream",
          "name": "stdout",
          "text": [
            "An apple a day keeps anyone away, if you throw it hard enough.\n"
          ]
        }
      ]
    },
    {
      "cell_type": "markdown",
      "source": [
        "Broadly, we can classify the combination of function parameters and their return types as follows:"
      ],
      "metadata": {
        "id": "cb0P2ZMMworX"
      }
    },
    {
      "cell_type": "markdown",
      "source": [
        "### Types of Functions\n",
        "\n",
        "#### 1. Nothing Goes In, Nothing Comes Out\n",
        "\n",
        "This type of function neither takes any input nor returns any output.\n",
        "\n",
        "**Example:**"
      ],
      "metadata": {
        "id": "8zfFMlgZvvHF"
      }
    },
    {
      "cell_type": "code",
      "source": [
        "def greet():\n",
        "    print(\"Hello, world!\")\n",
        "\n",
        "# Calling the function\n",
        "greet()"
      ],
      "metadata": {
        "id": "vKS-vIvtv4Sd",
        "colab": {
          "base_uri": "https://localhost:8080/"
        },
        "outputId": "51f45f44-eac4-4da3-da78-6148a003a6e4"
      },
      "execution_count": null,
      "outputs": [
        {
          "output_type": "stream",
          "name": "stdout",
          "text": [
            "Hello, world!\n"
          ]
        }
      ]
    },
    {
      "cell_type": "markdown",
      "source": [
        "**Explanation:**\n",
        "- The `greet` function does not take any arguments and does not return anything. It simply prints a message."
      ],
      "metadata": {
        "id": "rTPTRtamyfDH"
      }
    },
    {
      "cell_type": "markdown",
      "source": [
        "#### 2. Nothing Goes In, Something Comes Out\n",
        "\n",
        "This type of function does not take any input but returns an output.\n",
        "\n",
        "**Example:**"
      ],
      "metadata": {
        "id": "EUHL5_W-yiBI"
      }
    },
    {
      "cell_type": "code",
      "source": [
        "def get_pi():\n",
        "    return 3.14159\n",
        "\n",
        "# Calling the function and storing the return value in a variable\n",
        "pi_value = get_pi()\n",
        "print(f\"Value of Pi: {pi_value}\")"
      ],
      "metadata": {
        "id": "iEOMOnrgyl_l",
        "colab": {
          "base_uri": "https://localhost:8080/"
        },
        "outputId": "f0ec7881-0e51-4b76-c234-ad3151e7366b"
      },
      "execution_count": null,
      "outputs": [
        {
          "output_type": "stream",
          "name": "stdout",
          "text": [
            "Value of Pi: 3.14159\n"
          ]
        }
      ]
    },
    {
      "cell_type": "markdown",
      "source": [
        "**Explanation:**\n",
        "- The `get_pi` function does not take any arguments but returns the value of Pi."
      ],
      "metadata": {
        "id": "QkxlLLhuyqFu"
      }
    },
    {
      "cell_type": "markdown",
      "source": [
        "#### 3. Something Goes In, Nothing Comes Out\n",
        "\n",
        "This type of function takes input but does not return any output.\n",
        "\n",
        "**Example:**"
      ],
      "metadata": {
        "id": "LzhX27zVytOZ"
      }
    },
    {
      "cell_type": "code",
      "source": [
        "def greet_person(name):\n",
        "    print(f\"Hello, {name}!\")\n",
        "\n",
        "# Calling the function with an argument\n",
        "greet_person(\"Alice\")"
      ],
      "metadata": {
        "id": "iUnV9tDcyvMG",
        "colab": {
          "base_uri": "https://localhost:8080/"
        },
        "outputId": "5dabf947-2173-4dcd-9454-fd818c98d473"
      },
      "execution_count": null,
      "outputs": [
        {
          "output_type": "stream",
          "name": "stdout",
          "text": [
            "Hello, Alice!\n"
          ]
        }
      ]
    },
    {
      "cell_type": "markdown",
      "source": [
        "**Explanation:**\n",
        "- The `greet_person` function takes a `name` as an argument and prints a personalized greeting message."
      ],
      "metadata": {
        "id": "Y_i83OCByxqf"
      }
    },
    {
      "cell_type": "markdown",
      "source": [
        "#### 4. Something Goes In, Something Comes Out\n",
        "\n",
        "This type of function takes input and returns an output.\n",
        "\n",
        "**Example:**"
      ],
      "metadata": {
        "id": "R-glLTaDyzp5"
      }
    },
    {
      "cell_type": "code",
      "source": [
        "def add_numbers(a, b):\n",
        "    return a + b\n",
        "\n",
        "# Calling the function with arguments and storing the return value in a variable\n",
        "sum_result = add_numbers(5, 3)\n",
        "print(f\"Sum: {sum_result}\")"
      ],
      "metadata": {
        "id": "WhaT-DWWy19h",
        "colab": {
          "base_uri": "https://localhost:8080/"
        },
        "outputId": "af0644fc-544a-476f-8b52-d21b5c9068ca"
      },
      "execution_count": null,
      "outputs": [
        {
          "output_type": "stream",
          "name": "stdout",
          "text": [
            "Sum: 8\n"
          ]
        }
      ]
    },
    {
      "cell_type": "markdown",
      "source": [
        "**Explanation:**\n",
        "- The `add_numbers` function takes two arguments, `a` and `b`, and returns their sum.\n"
      ],
      "metadata": {
        "id": "NFXu6Aph0IpA"
      }
    },
    {
      "cell_type": "markdown",
      "source": [
        "### Interesting Examples and Use Cases\n",
        "\n",
        "**Example: Calculating the Area of a Circle**\n",
        "You want to create a function that calculates the area of a circle given its radius."
      ],
      "metadata": {
        "id": "7hpaAEyt0Jt7"
      }
    },
    {
      "cell_type": "code",
      "source": [
        "def calculate_area(radius):\n",
        "    pi = 3.14159\n",
        "    return pi * (radius ** 2)\n",
        "\n",
        "# Calling the function with an argument and printing the result\n",
        "area = calculate_area(5)\n",
        "print(f\"Area of the circle: {area}\")"
      ],
      "metadata": {
        "id": "AJGGes0P0Omh",
        "colab": {
          "base_uri": "https://localhost:8080/"
        },
        "outputId": "6df84053-a496-4f9d-d239-967a1705b981"
      },
      "execution_count": null,
      "outputs": [
        {
          "output_type": "stream",
          "name": "stdout",
          "text": [
            "Area of the circle: 78.53975\n"
          ]
        }
      ]
    },
    {
      "cell_type": "markdown",
      "source": [
        "### Try It Yourself\n",
        "\n",
        "**Example: Calculating the Average of a List**\n",
        "\n",
        "You want to create a function that calculates the average of a list of numbers.\n"
      ],
      "metadata": {
        "id": "LUZzo9Dz0Zc5"
      }
    },
    {
      "cell_type": "code",
      "source": [
        "def calculate_average(numbers):\n",
        "    # Remove this pass line when you are done writing the function\n",
        "    total = 0.0\n",
        "    count = 0\n",
        "    #### Write your function here\n",
        "    for num in numbers:\n",
        "      total += num\n",
        "      count += 1\n",
        "\n",
        "    #### your function ends here\n",
        "    return total/count\n",
        "# Output expected: 30\n",
        "my_numbers = [10, 20, 30, 40, 50]\n",
        "average = calculate_average(my_numbers)\n",
        "print(f\"Average: {average}\")\n",
        "\n",
        "# Output expected: 25\n",
        "your_numbers = [5, 15, 25, 35, 45]\n",
        "your_average = calculate_average(your_numbers)\n",
        "print(f\"Your average: {your_average}\")"
      ],
      "metadata": {
        "colab": {
          "base_uri": "https://localhost:8080/"
        },
        "id": "5bbok87N0e4w",
        "outputId": "1bef4175-6379-4682-e87b-636f7c4c3b50"
      },
      "execution_count": null,
      "outputs": [
        {
          "output_type": "stream",
          "name": "stdout",
          "text": [
            "Average: 30.0\n",
            "Your average: 25.0\n"
          ]
        }
      ]
    },
    {
      "cell_type": "markdown",
      "source": [
        "### Exercises\n",
        "\n",
        "**Exercise 1: Convert Temperature**\n",
        "Write a function that converts a temperature from Celsius to Fahrenheit."
      ],
      "metadata": {
        "id": "fxKDpXrE1IBv"
      }
    },
    {
      "cell_type": "code",
      "source": [
        "def celsius_to_fahrenheit(celsius):\n",
        "    # Remove this pass line when you are done writing the function\n",
        "    #### Write your function here\n",
        "    f = 9/5*celsius + 32\n",
        "\n",
        "    #### your function ends here\n",
        "    return f\n",
        "\n",
        " # Test the function\n",
        "temp_fahrenheit = celsius_to_fahrenheit(25)\n",
        "print(f\"Temperature in Fahrenheit: {temp_fahrenheit}\")"
      ],
      "metadata": {
        "id": "jJjZk6CV1HFp",
        "colab": {
          "base_uri": "https://localhost:8080/"
        },
        "outputId": "05419887-6e6c-4314-cfda-379217c41681"
      },
      "execution_count": null,
      "outputs": [
        {
          "output_type": "stream",
          "name": "stdout",
          "text": [
            "Temperature in Fahrenheit: 77.0\n"
          ]
        }
      ]
    },
    {
      "cell_type": "markdown",
      "source": [
        "**Exercise 2: Check Even or Odd**\n",
        "Write a function that checks whether a given number is even or odd.\n",
        "\n",
        "Function name should be `is_even` and it should take a number as input.  "
      ],
      "metadata": {
        "id": "rDTBHI1s1UBU"
      }
    },
    {
      "cell_type": "code",
      "source": [
        "def is_even(number):\n",
        "  return number % 2 == 0\n",
        "\n",
        "print(is_even(5))\n",
        "print(is_even(6))"
      ],
      "metadata": {
        "id": "kvApLivg1fgr",
        "colab": {
          "base_uri": "https://localhost:8080/"
        },
        "outputId": "cd87c567-1573-4a32-caee-4e3b684b6068"
      },
      "execution_count": null,
      "outputs": [
        {
          "output_type": "stream",
          "name": "stdout",
          "text": [
            "False\n",
            "True\n"
          ]
        }
      ]
    },
    {
      "cell_type": "markdown",
      "source": [
        "**Exercise 3: Find Maximum**\n",
        "Write a function that returns the maximum of two numbers.\n"
      ],
      "metadata": {
        "id": "_KpaHU1O1lNS"
      }
    },
    {
      "cell_type": "code",
      "source": [
        "def find_maximum(number1, number2):\n",
        "  return number1 if number1 > number2 else number2\n",
        "\n",
        "print(find_maximum(-1, 1))"
      ],
      "metadata": {
        "id": "NvN6SF7c1kZ_",
        "colab": {
          "base_uri": "https://localhost:8080/"
        },
        "outputId": "45c43613-56a9-411d-dd14-ad294f769eec"
      },
      "execution_count": null,
      "outputs": [
        {
          "output_type": "stream",
          "name": "stdout",
          "text": [
            "1\n"
          ]
        }
      ]
    },
    {
      "cell_type": "markdown",
      "source": [
        "**Exercise 4: Calculate Factorial**\n",
        "Write a function that calculates the factorial of a given number."
      ],
      "metadata": {
        "id": "YjtD8wKS1oPD"
      }
    },
    {
      "cell_type": "code",
      "source": [
        "def factorial(number):\n",
        "  result = 1\n",
        "  for i in range(1, number+1):\n",
        "    result *= i\n",
        "  return result\n",
        "\n",
        "print(factorial(5))"
      ],
      "metadata": {
        "id": "fNOTM5kM1uZz",
        "colab": {
          "base_uri": "https://localhost:8080/"
        },
        "outputId": "3daa65ba-24cf-47dc-bab8-e57eaf35a6ba"
      },
      "execution_count": null,
      "outputs": [
        {
          "output_type": "stream",
          "name": "stdout",
          "text": [
            "120\n"
          ]
        }
      ]
    },
    {
      "cell_type": "markdown",
      "source": [
        "\n",
        "**Exercise 5: Reverse a String**\n",
        "Write a function that reverses a given string."
      ],
      "metadata": {
        "id": "HBsd03f61utQ"
      }
    },
    {
      "cell_type": "code",
      "source": [
        "def reverse(string):\n",
        "  string_list = list(string)\n",
        "  left = 0\n",
        "  right = len(string_list)-1\n",
        "  while left < right:\n",
        "    string_list[left], string_list[right] = string_list[right], string_list[left]\n",
        "    left += 1\n",
        "    right -= 1\n",
        "  return \"\".join(string_list)\n",
        "\n",
        "print(reverse(\"bad\"))"
      ],
      "metadata": {
        "id": "ImTn1U1K1wBo",
        "colab": {
          "base_uri": "https://localhost:8080/"
        },
        "outputId": "5e7c8384-8242-4860-8591-94f6cd406621"
      },
      "execution_count": null,
      "outputs": [
        {
          "output_type": "stream",
          "name": "stdout",
          "text": [
            "dab\n"
          ]
        }
      ]
    },
    {
      "cell_type": "markdown",
      "source": [
        "**Exercise 6: Count Vowels in a String**\n",
        "Write a function that counts the number of vowels in a given string."
      ],
      "metadata": {
        "id": "7HfhAsB51wp2"
      }
    },
    {
      "cell_type": "code",
      "source": [
        "def count_vowels(string):\n",
        "  count = 0\n",
        "  for i in range(len(string)):\n",
        "    if string[i] in [\"A\", \"E\", \"I\", \"O\", \"U\", \"a\", \"e\", \"i\", \"o\", \"u\"]:\n",
        "      count += 1\n",
        "  return count\n",
        "\n",
        "print(count_vowels(\"alpha\"))"
      ],
      "metadata": {
        "id": "HMvikNJB11Av",
        "colab": {
          "base_uri": "https://localhost:8080/"
        },
        "outputId": "ccd103b6-75ad-4b15-e76a-81697fdc1d70"
      },
      "execution_count": null,
      "outputs": [
        {
          "output_type": "stream",
          "name": "stdout",
          "text": [
            "2\n"
          ]
        }
      ]
    },
    {
      "cell_type": "markdown",
      "source": [
        "### Conclusion\n",
        "\n",
        "Functions are an essential part of programming in Python. They help you organize your code, reduce duplication, and make your programs more modular and easier to understand. Practice creating and using functions to enhance your programming skills and make your code more efficient."
      ],
      "metadata": {
        "id": "RdPy4_Vivg-p"
      }
    }
  ]
}