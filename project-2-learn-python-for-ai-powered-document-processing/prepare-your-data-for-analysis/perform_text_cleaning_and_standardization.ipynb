{
  "nbformat": 4,
  "nbformat_minor": 0,
  "metadata": {
    "colab": {
      "provenance": [],
      "authorship_tag": "ABX9TyObSEW5ENJkeLTu4W4ZsNgL"
    },
    "kernelspec": {
      "name": "python3",
      "display_name": "Python 3"
    },
    "language_info": {
      "name": "python"
    }
  },
  "cells": [
    {
      "cell_type": "code",
      "execution_count": null,
      "metadata": {
        "colab": {
          "base_uri": "https://localhost:8080/",
          "height": 181
        },
        "id": "JBn9h7Sp8a5B",
        "outputId": "2fbe8170-153f-4c63-811e-596f8c063d73"
      },
      "outputs": [
        {
          "output_type": "display_data",
          "data": {
            "text/plain": [
              "<IPython.core.display.HTML object>"
            ],
            "text/html": [
              "\n",
              "     <input type=\"file\" id=\"files-0b8cf159-f68e-4ccc-89f6-6951df54b6b0\" name=\"files[]\" multiple disabled\n",
              "        style=\"border:none\" />\n",
              "     <output id=\"result-0b8cf159-f68e-4ccc-89f6-6951df54b6b0\">\n",
              "      Upload widget is only available when the cell has been executed in the\n",
              "      current browser session. Please rerun this cell to enable.\n",
              "      </output>\n",
              "      <script>// Copyright 2017 Google LLC\n",
              "//\n",
              "// Licensed under the Apache License, Version 2.0 (the \"License\");\n",
              "// you may not use this file except in compliance with the License.\n",
              "// You may obtain a copy of the License at\n",
              "//\n",
              "//      http://www.apache.org/licenses/LICENSE-2.0\n",
              "//\n",
              "// Unless required by applicable law or agreed to in writing, software\n",
              "// distributed under the License is distributed on an \"AS IS\" BASIS,\n",
              "// WITHOUT WARRANTIES OR CONDITIONS OF ANY KIND, either express or implied.\n",
              "// See the License for the specific language governing permissions and\n",
              "// limitations under the License.\n",
              "\n",
              "/**\n",
              " * @fileoverview Helpers for google.colab Python module.\n",
              " */\n",
              "(function(scope) {\n",
              "function span(text, styleAttributes = {}) {\n",
              "  const element = document.createElement('span');\n",
              "  element.textContent = text;\n",
              "  for (const key of Object.keys(styleAttributes)) {\n",
              "    element.style[key] = styleAttributes[key];\n",
              "  }\n",
              "  return element;\n",
              "}\n",
              "\n",
              "// Max number of bytes which will be uploaded at a time.\n",
              "const MAX_PAYLOAD_SIZE = 100 * 1024;\n",
              "\n",
              "function _uploadFiles(inputId, outputId) {\n",
              "  const steps = uploadFilesStep(inputId, outputId);\n",
              "  const outputElement = document.getElementById(outputId);\n",
              "  // Cache steps on the outputElement to make it available for the next call\n",
              "  // to uploadFilesContinue from Python.\n",
              "  outputElement.steps = steps;\n",
              "\n",
              "  return _uploadFilesContinue(outputId);\n",
              "}\n",
              "\n",
              "// This is roughly an async generator (not supported in the browser yet),\n",
              "// where there are multiple asynchronous steps and the Python side is going\n",
              "// to poll for completion of each step.\n",
              "// This uses a Promise to block the python side on completion of each step,\n",
              "// then passes the result of the previous step as the input to the next step.\n",
              "function _uploadFilesContinue(outputId) {\n",
              "  const outputElement = document.getElementById(outputId);\n",
              "  const steps = outputElement.steps;\n",
              "\n",
              "  const next = steps.next(outputElement.lastPromiseValue);\n",
              "  return Promise.resolve(next.value.promise).then((value) => {\n",
              "    // Cache the last promise value to make it available to the next\n",
              "    // step of the generator.\n",
              "    outputElement.lastPromiseValue = value;\n",
              "    return next.value.response;\n",
              "  });\n",
              "}\n",
              "\n",
              "/**\n",
              " * Generator function which is called between each async step of the upload\n",
              " * process.\n",
              " * @param {string} inputId Element ID of the input file picker element.\n",
              " * @param {string} outputId Element ID of the output display.\n",
              " * @return {!Iterable<!Object>} Iterable of next steps.\n",
              " */\n",
              "function* uploadFilesStep(inputId, outputId) {\n",
              "  const inputElement = document.getElementById(inputId);\n",
              "  inputElement.disabled = false;\n",
              "\n",
              "  const outputElement = document.getElementById(outputId);\n",
              "  outputElement.innerHTML = '';\n",
              "\n",
              "  const pickedPromise = new Promise((resolve) => {\n",
              "    inputElement.addEventListener('change', (e) => {\n",
              "      resolve(e.target.files);\n",
              "    });\n",
              "  });\n",
              "\n",
              "  const cancel = document.createElement('button');\n",
              "  inputElement.parentElement.appendChild(cancel);\n",
              "  cancel.textContent = 'Cancel upload';\n",
              "  const cancelPromise = new Promise((resolve) => {\n",
              "    cancel.onclick = () => {\n",
              "      resolve(null);\n",
              "    };\n",
              "  });\n",
              "\n",
              "  // Wait for the user to pick the files.\n",
              "  const files = yield {\n",
              "    promise: Promise.race([pickedPromise, cancelPromise]),\n",
              "    response: {\n",
              "      action: 'starting',\n",
              "    }\n",
              "  };\n",
              "\n",
              "  cancel.remove();\n",
              "\n",
              "  // Disable the input element since further picks are not allowed.\n",
              "  inputElement.disabled = true;\n",
              "\n",
              "  if (!files) {\n",
              "    return {\n",
              "      response: {\n",
              "        action: 'complete',\n",
              "      }\n",
              "    };\n",
              "  }\n",
              "\n",
              "  for (const file of files) {\n",
              "    const li = document.createElement('li');\n",
              "    li.append(span(file.name, {fontWeight: 'bold'}));\n",
              "    li.append(span(\n",
              "        `(${file.type || 'n/a'}) - ${file.size} bytes, ` +\n",
              "        `last modified: ${\n",
              "            file.lastModifiedDate ? file.lastModifiedDate.toLocaleDateString() :\n",
              "                                    'n/a'} - `));\n",
              "    const percent = span('0% done');\n",
              "    li.appendChild(percent);\n",
              "\n",
              "    outputElement.appendChild(li);\n",
              "\n",
              "    const fileDataPromise = new Promise((resolve) => {\n",
              "      const reader = new FileReader();\n",
              "      reader.onload = (e) => {\n",
              "        resolve(e.target.result);\n",
              "      };\n",
              "      reader.readAsArrayBuffer(file);\n",
              "    });\n",
              "    // Wait for the data to be ready.\n",
              "    let fileData = yield {\n",
              "      promise: fileDataPromise,\n",
              "      response: {\n",
              "        action: 'continue',\n",
              "      }\n",
              "    };\n",
              "\n",
              "    // Use a chunked sending to avoid message size limits. See b/62115660.\n",
              "    let position = 0;\n",
              "    do {\n",
              "      const length = Math.min(fileData.byteLength - position, MAX_PAYLOAD_SIZE);\n",
              "      const chunk = new Uint8Array(fileData, position, length);\n",
              "      position += length;\n",
              "\n",
              "      const base64 = btoa(String.fromCharCode.apply(null, chunk));\n",
              "      yield {\n",
              "        response: {\n",
              "          action: 'append',\n",
              "          file: file.name,\n",
              "          data: base64,\n",
              "        },\n",
              "      };\n",
              "\n",
              "      let percentDone = fileData.byteLength === 0 ?\n",
              "          100 :\n",
              "          Math.round((position / fileData.byteLength) * 100);\n",
              "      percent.textContent = `${percentDone}% done`;\n",
              "\n",
              "    } while (position < fileData.byteLength);\n",
              "  }\n",
              "\n",
              "  // All done.\n",
              "  yield {\n",
              "    response: {\n",
              "      action: 'complete',\n",
              "    }\n",
              "  };\n",
              "}\n",
              "\n",
              "scope.google = scope.google || {};\n",
              "scope.google.colab = scope.google.colab || {};\n",
              "scope.google.colab._files = {\n",
              "  _uploadFiles,\n",
              "  _uploadFilesContinue,\n",
              "};\n",
              "})(self);\n",
              "</script> "
            ]
          },
          "metadata": {}
        },
        {
          "output_type": "stream",
          "name": "stdout",
          "text": [
            "Saving text_sample.txt to text_sample (4).txt\n"
          ]
        },
        {
          "output_type": "execute_result",
          "data": {
            "text/plain": [
              "{'text_sample (4).txt': b'Th\\xc3\\xads \\xc3\\xads \\xc3\\xa0 pr\\xc3\\xb3blem\\xc3\\xa1tic t\\xc3\\xa9xt f\\xc3\\xadle!! It contains    **extra spaces** ,,,,, special characters!!!\\xf0\\x9f\\x92\\xa5\\xf0\\x9f\\x94\\xa5\\xf0\\x9f\\x9a\\x80\\r\\nSome words are misspelleddd,   and encoding  issues   lik\\xc3\\xa9 th\\xc3\\xads c\\xc3\\xa4us\\xc3\\xa9 probl\\xc3\\xabms.    \\r\\n        \\r\\nPrices are inconsistent:  $29.99, 29.99 USD, 29,99$.\\r\\n\\r\\nEmails & phone numbers may be embedded: contact@domain.com, (123)-456-7890.\\r\\n\\r\\nRepeated punctuations!!!!! should be removed, along with **random symbols** like @@,##.\\r\\n\\r\\nstopwords like \"the\", \"is\", and \"a\" appear often.\\r\\n\\r\\nHTML tags might be present: <div>This is inside a div</div>\\r\\n\\r\\nAnd sometimes, contractions won\\'t expand: \"can\\'t\", \"won\\'t\", \"shouldn\\'t\".\\r\\n\\r\\nRandom numeric values: 123456, 98765, 2024.'}"
            ]
          },
          "metadata": {},
          "execution_count": 55
        }
      ],
      "source": [
        "from google.colab import files\n",
        "\n",
        "files.upload()"
      ]
    },
    {
      "cell_type": "code",
      "source": [
        "import re\n",
        "import string\n",
        "import unicodedata\n",
        "import ftfy\n",
        "from bs4 import BeautifulSoup\n",
        "import contractions\n",
        "from nltk.corpus import stopwords\n",
        "import nltk"
      ],
      "metadata": {
        "colab": {
          "base_uri": "https://localhost:8080/"
        },
        "id": "8EwgzIPJ-wm1",
        "outputId": "f8f10695-e746-4efc-8708-a5aa2a1452a2"
      },
      "execution_count": null,
      "outputs": [
        {
          "output_type": "stream",
          "name": "stdout",
          "text": [
            "Requirement already satisfied: ftfy in /usr/local/lib/python3.11/dist-packages (6.3.1)\n",
            "Requirement already satisfied: wcwidth in /usr/local/lib/python3.11/dist-packages (from ftfy) (0.2.13)\n",
            "Requirement already satisfied: contractions in /usr/local/lib/python3.11/dist-packages (0.1.73)\n",
            "Requirement already satisfied: textsearch>=0.0.21 in /usr/local/lib/python3.11/dist-packages (from contractions) (0.0.24)\n",
            "Requirement already satisfied: anyascii in /usr/local/lib/python3.11/dist-packages (from textsearch>=0.0.21->contractions) (0.3.3)\n",
            "Requirement already satisfied: pyahocorasick in /usr/local/lib/python3.11/dist-packages (from textsearch>=0.0.21->contractions) (2.2.0)\n"
          ]
        }
      ]
    },
    {
      "cell_type": "code",
      "source": [
        "nltk.download('stopwords')"
      ],
      "metadata": {
        "colab": {
          "base_uri": "https://localhost:8080/"
        },
        "id": "c9Yzy8ux_VMW",
        "outputId": "41a0a537-a2d7-44bf-f317-9a34eb326860"
      },
      "execution_count": null,
      "outputs": [
        {
          "output_type": "stream",
          "name": "stderr",
          "text": [
            "[nltk_data] Downloading package stopwords to /root/nltk_data...\n",
            "[nltk_data]   Package stopwords is already up-to-date!\n"
          ]
        },
        {
          "output_type": "execute_result",
          "data": {
            "text/plain": [
              "True"
            ]
          },
          "metadata": {},
          "execution_count": 57
        }
      ]
    },
    {
      "cell_type": "code",
      "metadata": {
        "colab": {
          "base_uri": "https://localhost:8080/"
        },
        "id": "5152b071",
        "outputId": "53e63c7e-6f51-46dd-f99a-bfa71a340abd"
      },
      "source": [
        "with open('text_sample.txt', 'r', encoding='utf-8') as f:\n",
        "    text = f.read()\n",
        "\n",
        "print(text)"
      ],
      "execution_count": null,
      "outputs": [
        {
          "output_type": "stream",
          "name": "stdout",
          "text": [
            "Thís ís à próblemátic téxt fíle!! It contains    **extra spaces** ,,,,, special characters!!!💥🔥🚀\n",
            "Some words are misspelleddd,   and encoding  issues   liké thís cäusé problëms.    \n",
            "        \n",
            "Prices are inconsistent:  $29.99, 29.99 USD, 29,99$.\n",
            "\n",
            "Emails & phone numbers may be embedded: contact@domain.com, (123)-456-7890.\n",
            "\n",
            "Repeated punctuations!!!!! should be removed, along with **random symbols** like @@,##.\n",
            "\n",
            "stopwords like \"the\", \"is\", and \"a\" appear often.\n",
            "\n",
            "HTML tags might be present: <div>This is inside a div</div>\n",
            "\n",
            "And sometimes, contractions won't expand: \"can't\", \"won't\", \"shouldn't\".\n",
            "\n",
            "Random numeric values: 123456, 98765, 2024.\n"
          ]
        }
      ]
    },
    {
      "cell_type": "code",
      "source": [
        "fixed_text = ftfy.fix_text(text)\n",
        "fixed_text = unicodedata.normalize('NFKD', fixed_text).encode('ascii', 'ignore').decode()\n",
        "print(fixed_text)"
      ],
      "metadata": {
        "colab": {
          "base_uri": "https://localhost:8080/"
        },
        "id": "kKhJH5ceAXI7",
        "outputId": "f64b0f59-6688-46d6-9773-eea9bd6cb9fa"
      },
      "execution_count": null,
      "outputs": [
        {
          "output_type": "stream",
          "name": "stdout",
          "text": [
            "This is a problematic text file!! It contains    **extra spaces** ,,,,, special characters!!!\n",
            "Some words are misspelleddd,   and encoding  issues   like this cause problems.    \n",
            "        \n",
            "Prices are inconsistent:  $29.99, 29.99 USD, 29,99$.\n",
            "\n",
            "Emails & phone numbers may be embedded: contact@domain.com, (123)-456-7890.\n",
            "\n",
            "Repeated punctuations!!!!! should be removed, along with **random symbols** like @@,##.\n",
            "\n",
            "stopwords like \"the\", \"is\", and \"a\" appear often.\n",
            "\n",
            "HTML tags might be present: <div>This is inside a div</div>\n",
            "\n",
            "And sometimes, contractions won't expand: \"can't\", \"won't\", \"shouldn't\".\n",
            "\n",
            "Random numeric values: 123456, 98765, 2024.\n"
          ]
        }
      ]
    },
    {
      "cell_type": "code",
      "source": [
        "fixed_text = BeautifulSoup(fixed_text, \"html.parser\").get_text()\n",
        "print(fixed_text)"
      ],
      "metadata": {
        "colab": {
          "base_uri": "https://localhost:8080/"
        },
        "id": "4MjzzqkaA105",
        "outputId": "696aa29a-a09a-4146-ab1c-2828785953a8"
      },
      "execution_count": null,
      "outputs": [
        {
          "output_type": "stream",
          "name": "stdout",
          "text": [
            "This is a problematic text file!! It contains    **extra spaces** ,,,,, special characters!!!\n",
            "Some words are misspelleddd,   and encoding  issues   like this cause problems.    \n",
            "        \n",
            "Prices are inconsistent:  $29.99, 29.99 USD, 29,99$.\n",
            "\n",
            "Emails & phone numbers may be embedded: contact@domain.com, (123)-456-7890.\n",
            "\n",
            "Repeated punctuations!!!!! should be removed, along with **random symbols** like @@,##.\n",
            "\n",
            "stopwords like \"the\", \"is\", and \"a\" appear often.\n",
            "\n",
            "HTML tags might be present: This is inside a div\n",
            "\n",
            "And sometimes, contractions won't expand: \"can't\", \"won't\", \"shouldn't\".\n",
            "\n",
            "Random numeric values: 123456, 98765, 2024.\n"
          ]
        }
      ]
    },
    {
      "cell_type": "code",
      "source": [
        "fixed_text = contractions.fix(fixed_text)\n",
        "print(fixed_text)"
      ],
      "metadata": {
        "colab": {
          "base_uri": "https://localhost:8080/"
        },
        "id": "m0gF4iFsBHHk",
        "outputId": "7cb6dfd0-ed3d-4b99-9d11-adae1deab425"
      },
      "execution_count": null,
      "outputs": [
        {
          "output_type": "stream",
          "name": "stdout",
          "text": [
            "This is a problematic text file!! It contains    **extra spaces** ,,,,, special characters!!!\n",
            "Some words are misspelleddd,   and encoding  issues   like this because problems.    \n",
            "        \n",
            "Prices are inconsistent:  $29.99, 29.99 USD, 29,99$.\n",
            "\n",
            "Emails & phone numbers may be embedded: contact@domain.com, (123)-456-7890.\n",
            "\n",
            "Repeated punctuations!!!!! should be removed, along with **random symbols** like @@,##.\n",
            "\n",
            "stopwords like \"the\", \"is\", and \"a\" appear often.\n",
            "\n",
            "HTML tags might be present: This is inside a div\n",
            "\n",
            "And sometimes, contractions will not expand: \"cannot\", \"will not\", \"should not\".\n",
            "\n",
            "Random numeric values: 123456, 98765, 2024.\n"
          ]
        }
      ]
    },
    {
      "cell_type": "code",
      "source": [
        "fixed_text = re.sub(r'\\S+@\\S+', '', fixed_text)\n",
        "fixed_text = re.sub(r'\\(?\\d{3}\\)?[-.\\s]?\\d{3}[-.\\s]?\\d{4}', '', fixed_text)\n",
        "\n",
        "print(fixed_text)"
      ],
      "metadata": {
        "colab": {
          "base_uri": "https://localhost:8080/"
        },
        "id": "77tQp4CJBl-H",
        "outputId": "f773e4ba-d1e4-45da-bc06-d5724fbd05e2"
      },
      "execution_count": null,
      "outputs": [
        {
          "output_type": "stream",
          "name": "stdout",
          "text": [
            "This is a problematic text file!! It contains    **extra spaces** ,,,,, special characters!!!\n",
            "Some words are misspelleddd,   and encoding  issues   like this because problems.    \n",
            "        \n",
            "Prices are inconsistent:  $29.99, 29.99 USD, 29,99$.\n",
            "\n",
            "Emails & phone numbers may be embedded:  .\n",
            "\n",
            "Repeated punctuations!!!!! should be removed, along with **random symbols** like \n",
            "\n",
            "stopwords like \"the\", \"is\", and \"a\" appear often.\n",
            "\n",
            "HTML tags might be present: This is inside a div\n",
            "\n",
            "And sometimes, contractions will not expand: \"cannot\", \"will not\", \"should not\".\n",
            "\n",
            "Random numeric values: 123456, 98765, 2024.\n"
          ]
        }
      ]
    },
    {
      "cell_type": "code",
      "source": [
        "fixed_text = re.sub(r' \\$?\\s*(\\d{1,3}(?:[\\.,]\\d{2}))\\s*(USD|\\$)?', r' \\1 dollars ', fixed_text)\n",
        "\n",
        "print(fixed_text)"
      ],
      "metadata": {
        "colab": {
          "base_uri": "https://localhost:8080/"
        },
        "id": "3-LQyfhLB2XI",
        "outputId": "973e564e-3a6f-4181-8bd4-78390fa2131c"
      },
      "execution_count": null,
      "outputs": [
        {
          "output_type": "stream",
          "name": "stdout",
          "text": [
            "This is a problematic text file!! It contains    **extra spaces** ,,,,, special characters!!!\n",
            "Some words are misspelleddd,   and encoding  issues   like this because problems.    \n",
            "        \n",
            "Prices are inconsistent:  29.99 dollars , 29.99 dollars , 29,99 dollars .\n",
            "\n",
            "Emails & phone numbers may be embedded:  .\n",
            "\n",
            "Repeated punctuations!!!!! should be removed, along with **random symbols** like \n",
            "\n",
            "stopwords like \"the\", \"is\", and \"a\" appear often.\n",
            "\n",
            "HTML tags might be present: This is inside a div\n",
            "\n",
            "And sometimes, contractions will not expand: \"cannot\", \"will not\", \"should not\".\n",
            "\n",
            "Random numeric values: 123456, 98765, 2024.\n"
          ]
        }
      ]
    },
    {
      "cell_type": "code",
      "source": [
        "fixed_text = re.sub(r'\\s+', ' ', fixed_text).strip()\n",
        "print(fixed_text)"
      ],
      "metadata": {
        "colab": {
          "base_uri": "https://localhost:8080/"
        },
        "id": "QVAA5V0UCMBH",
        "outputId": "4cc4ece9-7837-4f2f-c446-1853e9cdb9b9"
      },
      "execution_count": null,
      "outputs": [
        {
          "output_type": "stream",
          "name": "stdout",
          "text": [
            "This is a problematic text file!! It contains **extra spaces** ,,,,, special characters!!! Some words are misspelleddd, and encoding issues like this because problems. Prices are inconsistent: 29.99 dollars , 29.99 dollars , 29,99 dollars . Emails & phone numbers may be embedded: . Repeated punctuations!!!!! should be removed, along with **random symbols** like stopwords like \"the\", \"is\", and \"a\" appear often. HTML tags might be present: This is inside a div And sometimes, contractions will not expand: \"cannot\", \"will not\", \"should not\". Random numeric values: 123456, 98765, 2024.\n"
          ]
        }
      ]
    },
    {
      "cell_type": "code",
      "source": [
        "fixed_text = fixed_text.lower()\n",
        "print(fixed_text)"
      ],
      "metadata": {
        "colab": {
          "base_uri": "https://localhost:8080/"
        },
        "id": "1OHC0KBnDFn4",
        "outputId": "e0378957-86cc-47e7-f263-e465ce302c39"
      },
      "execution_count": null,
      "outputs": [
        {
          "output_type": "stream",
          "name": "stdout",
          "text": [
            "this is a problematic text file!! it contains **extra spaces** ,,,,, special characters!!! some words are misspelleddd, and encoding issues like this because problems. prices are inconsistent: 29.99 dollars , 29.99 dollars , 29,99 dollars . emails & phone numbers may be embedded: . repeated punctuations!!!!! should be removed, along with **random symbols** like stopwords like \"the\", \"is\", and \"a\" appear often. html tags might be present: this is inside a div and sometimes, contractions will not expand: \"cannot\", \"will not\", \"should not\". random numeric values: 123456, 98765, 2024.\n"
          ]
        }
      ]
    },
    {
      "cell_type": "code",
      "source": [
        "punctuation = string.punctuation.replace('.', '')\n",
        "fixed_text = fixed_text.translate(str.maketrans('', '', punctuation))\n",
        "print(fixed_text)"
      ],
      "metadata": {
        "colab": {
          "base_uri": "https://localhost:8080/"
        },
        "id": "FkNjkWnRDJTJ",
        "outputId": "4ba8c100-947f-4056-b0ef-d47adc84da1a"
      },
      "execution_count": null,
      "outputs": [
        {
          "output_type": "stream",
          "name": "stdout",
          "text": [
            "this is a problematic text file it contains extra spaces  special characters some words are misspelleddd and encoding issues like this because problems. prices are inconsistent 29.99 dollars  29.99 dollars  2999 dollars . emails  phone numbers may be embedded . repeated punctuations should be removed along with random symbols like stopwords like the is and a appear often. html tags might be present this is inside a div and sometimes contractions will not expand cannot will not should not. random numeric values 123456 98765 2024.\n"
          ]
        }
      ]
    },
    {
      "cell_type": "code",
      "source": [
        "stop_words = set(stopwords.words('english'))\n",
        "words = fixed_text.split()\n",
        "fixed_text = ' '.join(word for word in words if word not in stop_words)\n",
        "\n",
        "print(fixed_text)"
      ],
      "metadata": {
        "colab": {
          "base_uri": "https://localhost:8080/"
        },
        "id": "o9HTulN1UexS",
        "outputId": "bd2ae508-ca3c-4e5a-9125-f4c258d62494"
      },
      "execution_count": null,
      "outputs": [
        {
          "output_type": "stream",
          "name": "stdout",
          "text": [
            "problematic text file contains extra spaces special characters words misspelleddd encoding issues like problems. prices inconsistent 29.99 dollars 29.99 dollars 2999 dollars . emails phone numbers may embedded . repeated punctuations removed along random symbols like stopwords like appear often. html tags might present inside div sometimes contractions expand cannot not. random numeric values 123456 98765 2024.\n"
          ]
        }
      ]
    }
  ]
}