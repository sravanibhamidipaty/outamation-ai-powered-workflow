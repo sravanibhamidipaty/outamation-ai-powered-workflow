{
  "nbformat": 4,
  "nbformat_minor": 0,
  "metadata": {
    "colab": {
      "provenance": [],
      "authorship_tag": "ABX9TyNMS6qJ82lOJrfKDdn5kGkz"
    },
    "kernelspec": {
      "name": "python3",
      "display_name": "Python 3"
    },
    "language_info": {
      "name": "python"
    }
  },
  "cells": [
    {
      "cell_type": "code",
      "execution_count": null,
      "metadata": {
        "colab": {
          "base_uri": "https://localhost:8080/"
        },
        "id": "cK6sb86reFG5",
        "outputId": "9b664414-6d57-4b33-c001-2b5bd5baf9ec"
      },
      "outputs": [
        {
          "output_type": "stream",
          "name": "stdout",
          "text": [
            "Welcome to Google Colab!\n",
            "Addition: 15\n",
            "Subtraction: 5\n",
            "Multiplication: 50\n",
            "Division: 2.0\n",
            "Hello, Alice!\n",
            "List of numbers: [1, 2, 3, 4, 5]\n",
            "Type of a: <class 'int'>\n",
            "Type of name: <class 'str'>\n"
          ]
        }
      ],
      "source": [
        "# 1️⃣ Print a welcome message\n",
        "print(\"Welcome to Google Colab!\")\n",
        "\n",
        "# 2️⃣ Perform basic math operations\n",
        "a = 10\n",
        "b = 5\n",
        "print(\"Addition:\", a + b)\n",
        "print(\"Subtraction:\", a - b)\n",
        "print(\"Multiplication:\", a * b)\n",
        "print(\"Division:\", a / b)\n",
        "\n",
        "# 3️⃣ Work with text (strings)\n",
        "name = \"Alice\"\n",
        "print(\"Hello, \" + name + \"!\")\n",
        "\n",
        "# 4️⃣ Store and display a list of numbers\n",
        "numbers = [1, 2, 3, 4, 5]\n",
        "print(\"List of numbers:\", numbers)\n",
        "\n",
        "# 5️⃣ Check data types\n",
        "print(\"Type of a:\", type(a))\n",
        "print(\"Type of name:\", type(name))"
      ]
    },
    {
      "cell_type": "code",
      "source": [],
      "metadata": {
        "id": "K3zZT-TteUz1"
      },
      "execution_count": null,
      "outputs": []
    }
  ]
}